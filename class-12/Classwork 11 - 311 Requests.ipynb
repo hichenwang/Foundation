{
 "cells": [
  {
   "cell_type": "markdown",
   "metadata": {},
   "source": [
    "# Exercise: 311 Requests\n",
    "\n",
    "#### Summary\n",
    "\n",
    "In NYC, you can call 311 with *anything* about the city - questions, complaints, etc. We'll be analyzing requests from 2015-2016 from the Department of Transportation and NYPD.\n",
    "\n",
    "#### Data Source(s)\n",
    "\n",
    "Filtered from full set, https://nycopendata.socrata.com/Social-Services/311-Service-Requests-from-2010-to-Present/erm2-nwe9\n",
    "\n",
    "#### Files\n",
    "\n",
    "- `311-requests/311_Service_Requests_from_2010_to_Present.csv`, about 1.8 million rows (over 1GB of data)\n",
    "\n",
    "#### Data dictionary\n",
    "\n",
    "Visit [this page](https://nycopendata.socrata.com/Social-Services/311-Service-Requests-from-2010-to-Present/erm2-nwe9#schema-preview) and click 'Show more' on the bottom right of the list (53 columns).\n",
    "\n",
    "#### Skills\n",
    "\n",
    "- Opening large files\n",
    "- Time"
   ]
  },
  {
   "cell_type": "markdown",
   "metadata": {},
   "source": [
    "## Opening the file\n",
    "\n",
    "It's a big one! If your computer is slow or you only have 2GB of RAM, you might want to specify `nrows=50000` (or less). Increase the number until it takes around 20 seconds, maybe!"
   ]
  },
  {
   "cell_type": "code",
   "execution_count": 144,
   "metadata": {
    "collapsed": true
   },
   "outputs": [],
   "source": [
    "import pandas as pd\n",
    "import numpy as np\n",
    "import re\n",
    "import statistics\n",
    "%matplotlib inline"
   ]
  },
  {
   "cell_type": "markdown",
   "metadata": {},
   "source": [
    "### Measuring time in Jupyter Notebooks\n",
    "\n",
    "How long did that take? Read it in again, but this time **time how long it takes.** (and no, not with your watch - with Jupyter!)"
   ]
  },
  {
   "cell_type": "code",
   "execution_count": 148,
   "metadata": {},
   "outputs": [
    {
     "name": "stderr",
     "output_type": "stream",
     "text": [
      "<string>:2: DtypeWarning: Columns (17,47) have mixed types. Specify dtype option on import or set low_memory=False.\n"
     ]
    },
    {
     "name": "stdout",
     "output_type": "stream",
     "text": [
      "CPU times: user 15.4 s, sys: 7.02 s, total: 22.4 s\n",
      "Wall time: 22.8 s\n"
     ]
    }
   ],
   "source": [
    "%%time\n",
    "df = pd.read_csv('data/311_Service_Requests_from_2010_to_Present.csv', nrows=1000000)"
   ]
  },
  {
   "cell_type": "markdown",
   "metadata": {},
   "source": [
    "### Look at the first few rows\n",
    "\n",
    "Make sure you can see **every single column.**"
   ]
  },
  {
   "cell_type": "code",
   "execution_count": 166,
   "metadata": {},
   "outputs": [
    {
     "data": {
      "text/plain": [
       "(1000000, 53)"
      ]
     },
     "execution_count": 166,
     "metadata": {},
     "output_type": "execute_result"
    }
   ],
   "source": [
    "df.shape"
   ]
  },
  {
   "cell_type": "code",
   "execution_count": 167,
   "metadata": {
    "scrolled": true
   },
   "outputs": [
    {
     "data": {
      "text/html": [
       "<div>\n",
       "<style>\n",
       "    .dataframe thead tr:only-child th {\n",
       "        text-align: right;\n",
       "    }\n",
       "\n",
       "    .dataframe thead th {\n",
       "        text-align: left;\n",
       "    }\n",
       "\n",
       "    .dataframe tbody tr th {\n",
       "        vertical-align: top;\n",
       "    }\n",
       "</style>\n",
       "<table border=\"1\" class=\"dataframe\">\n",
       "  <thead>\n",
       "    <tr style=\"text-align: right;\">\n",
       "      <th></th>\n",
       "      <th>Unique Key</th>\n",
       "      <th>Created Date</th>\n",
       "      <th>Closed Date</th>\n",
       "      <th>Agency</th>\n",
       "      <th>Agency Name</th>\n",
       "      <th>Complaint Type</th>\n",
       "      <th>Descriptor</th>\n",
       "      <th>Location Type</th>\n",
       "      <th>Incident Zip</th>\n",
       "      <th>Incident Address</th>\n",
       "      <th>Street Name</th>\n",
       "      <th>Cross Street 1</th>\n",
       "      <th>Cross Street 2</th>\n",
       "      <th>Intersection Street 1</th>\n",
       "      <th>Intersection Street 2</th>\n",
       "      <th>Address Type</th>\n",
       "      <th>City</th>\n",
       "      <th>Landmark</th>\n",
       "      <th>Facility Type</th>\n",
       "      <th>Status</th>\n",
       "      <th>Due Date</th>\n",
       "      <th>Resolution Description</th>\n",
       "      <th>Resolution Action Updated Date</th>\n",
       "      <th>Community Board</th>\n",
       "      <th>Borough</th>\n",
       "      <th>X Coordinate (State Plane)</th>\n",
       "      <th>Y Coordinate (State Plane)</th>\n",
       "      <th>Park Facility Name</th>\n",
       "      <th>Park Borough</th>\n",
       "      <th>School Name</th>\n",
       "      <th>School Number</th>\n",
       "      <th>School Region</th>\n",
       "      <th>School Code</th>\n",
       "      <th>School Phone Number</th>\n",
       "      <th>School Address</th>\n",
       "      <th>School City</th>\n",
       "      <th>School State</th>\n",
       "      <th>School Zip</th>\n",
       "      <th>School Not Found</th>\n",
       "      <th>School or Citywide Complaint</th>\n",
       "      <th>Vehicle Type</th>\n",
       "      <th>Taxi Company Borough</th>\n",
       "      <th>Taxi Pick Up Location</th>\n",
       "      <th>Bridge Highway Name</th>\n",
       "      <th>Bridge Highway Direction</th>\n",
       "      <th>Road Ramp</th>\n",
       "      <th>Bridge Highway Segment</th>\n",
       "      <th>Garage Lot Name</th>\n",
       "      <th>Ferry Direction</th>\n",
       "      <th>Ferry Terminal Name</th>\n",
       "      <th>Latitude</th>\n",
       "      <th>Longitude</th>\n",
       "      <th>Location</th>\n",
       "    </tr>\n",
       "  </thead>\n",
       "  <tbody>\n",
       "    <tr>\n",
       "      <th>0</th>\n",
       "      <td>31463990</td>\n",
       "      <td>09/04/2015 10:55:25 PM</td>\n",
       "      <td>09/05/2015 02:06:54 AM</td>\n",
       "      <td>NYPD</td>\n",
       "      <td>New York City Police Department</td>\n",
       "      <td>Noise - Street/Sidewalk</td>\n",
       "      <td>Loud Music/Party</td>\n",
       "      <td>Street/Sidewalk</td>\n",
       "      <td>10460.0</td>\n",
       "      <td>1110 WYATT STREET</td>\n",
       "      <td>WYATT STREET</td>\n",
       "      <td>DEVOE AVENUE</td>\n",
       "      <td>BRONX PARK AVENUE</td>\n",
       "      <td>NaN</td>\n",
       "      <td>NaN</td>\n",
       "      <td>ADDRESS</td>\n",
       "      <td>BRONX</td>\n",
       "      <td>NaN</td>\n",
       "      <td>Precinct</td>\n",
       "      <td>Closed</td>\n",
       "      <td>09/05/2015 06:55:25 AM</td>\n",
       "      <td>The Police Department responded and upon arriv...</td>\n",
       "      <td>09/05/2015 02:06:54 AM</td>\n",
       "      <td>06 BRONX</td>\n",
       "      <td>BRONX</td>\n",
       "      <td>1018201.0</td>\n",
       "      <td>245083.0</td>\n",
       "      <td>Unspecified</td>\n",
       "      <td>BRONX</td>\n",
       "      <td>Unspecified</td>\n",
       "      <td>Unspecified</td>\n",
       "      <td>Unspecified</td>\n",
       "      <td>Unspecified</td>\n",
       "      <td>Unspecified</td>\n",
       "      <td>Unspecified</td>\n",
       "      <td>Unspecified</td>\n",
       "      <td>Unspecified</td>\n",
       "      <td>Unspecified</td>\n",
       "      <td>N</td>\n",
       "      <td>NaN</td>\n",
       "      <td>NaN</td>\n",
       "      <td>NaN</td>\n",
       "      <td>NaN</td>\n",
       "      <td>NaN</td>\n",
       "      <td>NaN</td>\n",
       "      <td>NaN</td>\n",
       "      <td>NaN</td>\n",
       "      <td>NaN</td>\n",
       "      <td>NaN</td>\n",
       "      <td>NaN</td>\n",
       "      <td>40.839306</td>\n",
       "      <td>-73.877301</td>\n",
       "      <td>(40.83930620730105, -73.8773009180668)</td>\n",
       "    </tr>\n",
       "    <tr>\n",
       "      <th>1</th>\n",
       "      <td>31463991</td>\n",
       "      <td>09/04/2015 01:53:45 PM</td>\n",
       "      <td>09/04/2015 06:37:24 PM</td>\n",
       "      <td>NYPD</td>\n",
       "      <td>New York City Police Department</td>\n",
       "      <td>Noise - Street/Sidewalk</td>\n",
       "      <td>Loud Music/Party</td>\n",
       "      <td>Street/Sidewalk</td>\n",
       "      <td>10031.0</td>\n",
       "      <td>NaN</td>\n",
       "      <td>NaN</td>\n",
       "      <td>NaN</td>\n",
       "      <td>NaN</td>\n",
       "      <td>WEST  151 STREET</td>\n",
       "      <td>BROADWAY</td>\n",
       "      <td>INTERSECTION</td>\n",
       "      <td>NEW YORK</td>\n",
       "      <td>NaN</td>\n",
       "      <td>Precinct</td>\n",
       "      <td>Closed</td>\n",
       "      <td>09/04/2015 09:53:45 PM</td>\n",
       "      <td>The Police Department responded to the complai...</td>\n",
       "      <td>09/04/2015 06:37:24 PM</td>\n",
       "      <td>09 MANHATTAN</td>\n",
       "      <td>MANHATTAN</td>\n",
       "      <td>998728.0</td>\n",
       "      <td>241754.0</td>\n",
       "      <td>Unspecified</td>\n",
       "      <td>MANHATTAN</td>\n",
       "      <td>Unspecified</td>\n",
       "      <td>Unspecified</td>\n",
       "      <td>Unspecified</td>\n",
       "      <td>Unspecified</td>\n",
       "      <td>Unspecified</td>\n",
       "      <td>Unspecified</td>\n",
       "      <td>Unspecified</td>\n",
       "      <td>Unspecified</td>\n",
       "      <td>Unspecified</td>\n",
       "      <td>N</td>\n",
       "      <td>NaN</td>\n",
       "      <td>NaN</td>\n",
       "      <td>NaN</td>\n",
       "      <td>NaN</td>\n",
       "      <td>NaN</td>\n",
       "      <td>NaN</td>\n",
       "      <td>NaN</td>\n",
       "      <td>NaN</td>\n",
       "      <td>NaN</td>\n",
       "      <td>NaN</td>\n",
       "      <td>NaN</td>\n",
       "      <td>40.830222</td>\n",
       "      <td>-73.947684</td>\n",
       "      <td>(40.830222460372724, -73.94768359377827)</td>\n",
       "    </tr>\n",
       "    <tr>\n",
       "      <th>2</th>\n",
       "      <td>31463992</td>\n",
       "      <td>09/04/2015 09:15:43 PM</td>\n",
       "      <td>09/04/2015 10:32:01 PM</td>\n",
       "      <td>NYPD</td>\n",
       "      <td>New York City Police Department</td>\n",
       "      <td>Noise - Street/Sidewalk</td>\n",
       "      <td>Loud Music/Party</td>\n",
       "      <td>Street/Sidewalk</td>\n",
       "      <td>10031.0</td>\n",
       "      <td>545 WEST 144 STREET</td>\n",
       "      <td>WEST 144 STREET</td>\n",
       "      <td>AMSTERDAM AVENUE</td>\n",
       "      <td>BROADWAY</td>\n",
       "      <td>NaN</td>\n",
       "      <td>NaN</td>\n",
       "      <td>ADDRESS</td>\n",
       "      <td>NEW YORK</td>\n",
       "      <td>NaN</td>\n",
       "      <td>Precinct</td>\n",
       "      <td>Closed</td>\n",
       "      <td>09/05/2015 05:15:43 AM</td>\n",
       "      <td>The Police Department responded to the complai...</td>\n",
       "      <td>09/04/2015 10:32:02 PM</td>\n",
       "      <td>09 MANHATTAN</td>\n",
       "      <td>MANHATTAN</td>\n",
       "      <td>998263.0</td>\n",
       "      <td>239889.0</td>\n",
       "      <td>Unspecified</td>\n",
       "      <td>MANHATTAN</td>\n",
       "      <td>Unspecified</td>\n",
       "      <td>Unspecified</td>\n",
       "      <td>Unspecified</td>\n",
       "      <td>Unspecified</td>\n",
       "      <td>Unspecified</td>\n",
       "      <td>Unspecified</td>\n",
       "      <td>Unspecified</td>\n",
       "      <td>Unspecified</td>\n",
       "      <td>Unspecified</td>\n",
       "      <td>N</td>\n",
       "      <td>NaN</td>\n",
       "      <td>NaN</td>\n",
       "      <td>NaN</td>\n",
       "      <td>NaN</td>\n",
       "      <td>NaN</td>\n",
       "      <td>NaN</td>\n",
       "      <td>NaN</td>\n",
       "      <td>NaN</td>\n",
       "      <td>NaN</td>\n",
       "      <td>NaN</td>\n",
       "      <td>NaN</td>\n",
       "      <td>40.825104</td>\n",
       "      <td>-73.949368</td>\n",
       "      <td>(40.825104318551325, -73.94936777115372)</td>\n",
       "    </tr>\n",
       "    <tr>\n",
       "      <th>3</th>\n",
       "      <td>31463993</td>\n",
       "      <td>09/05/2015 01:06:57 AM</td>\n",
       "      <td>09/05/2015 02:26:43 AM</td>\n",
       "      <td>NYPD</td>\n",
       "      <td>New York City Police Department</td>\n",
       "      <td>Noise - Commercial</td>\n",
       "      <td>Loud Music/Party</td>\n",
       "      <td>Club/Bar/Restaurant</td>\n",
       "      <td>11203.0</td>\n",
       "      <td>UTICA AVENUE</td>\n",
       "      <td>UTICA AVENUE</td>\n",
       "      <td>AVENUE D</td>\n",
       "      <td>FOSTER AVENUE</td>\n",
       "      <td>NaN</td>\n",
       "      <td>NaN</td>\n",
       "      <td>BLOCKFACE</td>\n",
       "      <td>BROOKLYN</td>\n",
       "      <td>NaN</td>\n",
       "      <td>Precinct</td>\n",
       "      <td>Closed</td>\n",
       "      <td>09/05/2015 09:06:57 AM</td>\n",
       "      <td>The Police Department responded to the complai...</td>\n",
       "      <td>09/05/2015 02:26:44 AM</td>\n",
       "      <td>17 BROOKLYN</td>\n",
       "      <td>BROOKLYN</td>\n",
       "      <td>1003890.0</td>\n",
       "      <td>172805.0</td>\n",
       "      <td>Unspecified</td>\n",
       "      <td>BROOKLYN</td>\n",
       "      <td>Unspecified</td>\n",
       "      <td>Unspecified</td>\n",
       "      <td>Unspecified</td>\n",
       "      <td>Unspecified</td>\n",
       "      <td>Unspecified</td>\n",
       "      <td>Unspecified</td>\n",
       "      <td>Unspecified</td>\n",
       "      <td>Unspecified</td>\n",
       "      <td>Unspecified</td>\n",
       "      <td>N</td>\n",
       "      <td>NaN</td>\n",
       "      <td>NaN</td>\n",
       "      <td>NaN</td>\n",
       "      <td>NaN</td>\n",
       "      <td>NaN</td>\n",
       "      <td>NaN</td>\n",
       "      <td>NaN</td>\n",
       "      <td>NaN</td>\n",
       "      <td>NaN</td>\n",
       "      <td>NaN</td>\n",
       "      <td>NaN</td>\n",
       "      <td>40.640965</td>\n",
       "      <td>-73.929232</td>\n",
       "      <td>(40.64096464471428, -73.92923194083798)</td>\n",
       "    </tr>\n",
       "    <tr>\n",
       "      <th>4</th>\n",
       "      <td>31463995</td>\n",
       "      <td>09/04/2015 07:48:25 AM</td>\n",
       "      <td>09/04/2015 05:21:18 PM</td>\n",
       "      <td>NYPD</td>\n",
       "      <td>New York City Police Department</td>\n",
       "      <td>Illegal Parking</td>\n",
       "      <td>Overnight Commercial Storage</td>\n",
       "      <td>Street/Sidewalk</td>\n",
       "      <td>11210.0</td>\n",
       "      <td>GLENWOOD ROAD</td>\n",
       "      <td>GLENWOOD ROAD</td>\n",
       "      <td>BROOKLYN AVENUE</td>\n",
       "      <td>EAST 37 STREET</td>\n",
       "      <td>NaN</td>\n",
       "      <td>NaN</td>\n",
       "      <td>BLOCKFACE</td>\n",
       "      <td>BROOKLYN</td>\n",
       "      <td>NaN</td>\n",
       "      <td>Precinct</td>\n",
       "      <td>Closed</td>\n",
       "      <td>09/04/2015 03:48:25 PM</td>\n",
       "      <td>The Police Department responded to the complai...</td>\n",
       "      <td>09/04/2015 05:21:19 PM</td>\n",
       "      <td>17 BROOKLYN</td>\n",
       "      <td>BROOKLYN</td>\n",
       "      <td>1000480.0</td>\n",
       "      <td>170405.0</td>\n",
       "      <td>Unspecified</td>\n",
       "      <td>BROOKLYN</td>\n",
       "      <td>Unspecified</td>\n",
       "      <td>Unspecified</td>\n",
       "      <td>Unspecified</td>\n",
       "      <td>Unspecified</td>\n",
       "      <td>Unspecified</td>\n",
       "      <td>Unspecified</td>\n",
       "      <td>Unspecified</td>\n",
       "      <td>Unspecified</td>\n",
       "      <td>Unspecified</td>\n",
       "      <td>N</td>\n",
       "      <td>NaN</td>\n",
       "      <td>NaN</td>\n",
       "      <td>NaN</td>\n",
       "      <td>NaN</td>\n",
       "      <td>NaN</td>\n",
       "      <td>NaN</td>\n",
       "      <td>NaN</td>\n",
       "      <td>NaN</td>\n",
       "      <td>NaN</td>\n",
       "      <td>NaN</td>\n",
       "      <td>NaN</td>\n",
       "      <td>40.634384</td>\n",
       "      <td>-73.941525</td>\n",
       "      <td>(40.63438406330588, -73.9415248319131)</td>\n",
       "    </tr>\n",
       "  </tbody>\n",
       "</table>\n",
       "</div>"
      ],
      "text/plain": [
       "   Unique Key            Created Date             Closed Date Agency  \\\n",
       "0    31463990  09/04/2015 10:55:25 PM  09/05/2015 02:06:54 AM   NYPD   \n",
       "1    31463991  09/04/2015 01:53:45 PM  09/04/2015 06:37:24 PM   NYPD   \n",
       "2    31463992  09/04/2015 09:15:43 PM  09/04/2015 10:32:01 PM   NYPD   \n",
       "3    31463993  09/05/2015 01:06:57 AM  09/05/2015 02:26:43 AM   NYPD   \n",
       "4    31463995  09/04/2015 07:48:25 AM  09/04/2015 05:21:18 PM   NYPD   \n",
       "\n",
       "                       Agency Name           Complaint Type  \\\n",
       "0  New York City Police Department  Noise - Street/Sidewalk   \n",
       "1  New York City Police Department  Noise - Street/Sidewalk   \n",
       "2  New York City Police Department  Noise - Street/Sidewalk   \n",
       "3  New York City Police Department       Noise - Commercial   \n",
       "4  New York City Police Department          Illegal Parking   \n",
       "\n",
       "                     Descriptor        Location Type  Incident Zip  \\\n",
       "0              Loud Music/Party      Street/Sidewalk       10460.0   \n",
       "1              Loud Music/Party      Street/Sidewalk       10031.0   \n",
       "2              Loud Music/Party      Street/Sidewalk       10031.0   \n",
       "3              Loud Music/Party  Club/Bar/Restaurant       11203.0   \n",
       "4  Overnight Commercial Storage      Street/Sidewalk       11210.0   \n",
       "\n",
       "      Incident Address      Street Name    Cross Street 1     Cross Street 2  \\\n",
       "0    1110 WYATT STREET     WYATT STREET      DEVOE AVENUE  BRONX PARK AVENUE   \n",
       "1                  NaN              NaN               NaN                NaN   \n",
       "2  545 WEST 144 STREET  WEST 144 STREET  AMSTERDAM AVENUE           BROADWAY   \n",
       "3         UTICA AVENUE     UTICA AVENUE          AVENUE D      FOSTER AVENUE   \n",
       "4        GLENWOOD ROAD    GLENWOOD ROAD   BROOKLYN AVENUE     EAST 37 STREET   \n",
       "\n",
       "  Intersection Street 1 Intersection Street 2  Address Type      City  \\\n",
       "0                   NaN                   NaN       ADDRESS     BRONX   \n",
       "1      WEST  151 STREET              BROADWAY  INTERSECTION  NEW YORK   \n",
       "2                   NaN                   NaN       ADDRESS  NEW YORK   \n",
       "3                   NaN                   NaN     BLOCKFACE  BROOKLYN   \n",
       "4                   NaN                   NaN     BLOCKFACE  BROOKLYN   \n",
       "\n",
       "  Landmark Facility Type  Status                Due Date  \\\n",
       "0      NaN      Precinct  Closed  09/05/2015 06:55:25 AM   \n",
       "1      NaN      Precinct  Closed  09/04/2015 09:53:45 PM   \n",
       "2      NaN      Precinct  Closed  09/05/2015 05:15:43 AM   \n",
       "3      NaN      Precinct  Closed  09/05/2015 09:06:57 AM   \n",
       "4      NaN      Precinct  Closed  09/04/2015 03:48:25 PM   \n",
       "\n",
       "                              Resolution Description  \\\n",
       "0  The Police Department responded and upon arriv...   \n",
       "1  The Police Department responded to the complai...   \n",
       "2  The Police Department responded to the complai...   \n",
       "3  The Police Department responded to the complai...   \n",
       "4  The Police Department responded to the complai...   \n",
       "\n",
       "  Resolution Action Updated Date Community Board    Borough  \\\n",
       "0         09/05/2015 02:06:54 AM        06 BRONX      BRONX   \n",
       "1         09/04/2015 06:37:24 PM    09 MANHATTAN  MANHATTAN   \n",
       "2         09/04/2015 10:32:02 PM    09 MANHATTAN  MANHATTAN   \n",
       "3         09/05/2015 02:26:44 AM     17 BROOKLYN   BROOKLYN   \n",
       "4         09/04/2015 05:21:19 PM     17 BROOKLYN   BROOKLYN   \n",
       "\n",
       "   X Coordinate (State Plane)  Y Coordinate (State Plane) Park Facility Name  \\\n",
       "0                   1018201.0                    245083.0        Unspecified   \n",
       "1                    998728.0                    241754.0        Unspecified   \n",
       "2                    998263.0                    239889.0        Unspecified   \n",
       "3                   1003890.0                    172805.0        Unspecified   \n",
       "4                   1000480.0                    170405.0        Unspecified   \n",
       "\n",
       "  Park Borough  School Name School Number School Region  School Code  \\\n",
       "0        BRONX  Unspecified   Unspecified   Unspecified  Unspecified   \n",
       "1    MANHATTAN  Unspecified   Unspecified   Unspecified  Unspecified   \n",
       "2    MANHATTAN  Unspecified   Unspecified   Unspecified  Unspecified   \n",
       "3     BROOKLYN  Unspecified   Unspecified   Unspecified  Unspecified   \n",
       "4     BROOKLYN  Unspecified   Unspecified   Unspecified  Unspecified   \n",
       "\n",
       "  School Phone Number School Address  School City School State   School Zip  \\\n",
       "0         Unspecified    Unspecified  Unspecified  Unspecified  Unspecified   \n",
       "1         Unspecified    Unspecified  Unspecified  Unspecified  Unspecified   \n",
       "2         Unspecified    Unspecified  Unspecified  Unspecified  Unspecified   \n",
       "3         Unspecified    Unspecified  Unspecified  Unspecified  Unspecified   \n",
       "4         Unspecified    Unspecified  Unspecified  Unspecified  Unspecified   \n",
       "\n",
       "  School Not Found  School or Citywide Complaint  Vehicle Type  \\\n",
       "0                N                           NaN           NaN   \n",
       "1                N                           NaN           NaN   \n",
       "2                N                           NaN           NaN   \n",
       "3                N                           NaN           NaN   \n",
       "4                N                           NaN           NaN   \n",
       "\n",
       "   Taxi Company Borough  Taxi Pick Up Location Bridge Highway Name  \\\n",
       "0                   NaN                    NaN                 NaN   \n",
       "1                   NaN                    NaN                 NaN   \n",
       "2                   NaN                    NaN                 NaN   \n",
       "3                   NaN                    NaN                 NaN   \n",
       "4                   NaN                    NaN                 NaN   \n",
       "\n",
       "  Bridge Highway Direction Road Ramp Bridge Highway Segment Garage Lot Name  \\\n",
       "0                      NaN       NaN                    NaN             NaN   \n",
       "1                      NaN       NaN                    NaN             NaN   \n",
       "2                      NaN       NaN                    NaN             NaN   \n",
       "3                      NaN       NaN                    NaN             NaN   \n",
       "4                      NaN       NaN                    NaN             NaN   \n",
       "\n",
       "  Ferry Direction Ferry Terminal Name   Latitude  Longitude  \\\n",
       "0             NaN                 NaN  40.839306 -73.877301   \n",
       "1             NaN                 NaN  40.830222 -73.947684   \n",
       "2             NaN                 NaN  40.825104 -73.949368   \n",
       "3             NaN                 NaN  40.640965 -73.929232   \n",
       "4             NaN                 NaN  40.634384 -73.941525   \n",
       "\n",
       "                                   Location  \n",
       "0    (40.83930620730105, -73.8773009180668)  \n",
       "1  (40.830222460372724, -73.94768359377827)  \n",
       "2  (40.825104318551325, -73.94936777115372)  \n",
       "3   (40.64096464471428, -73.92923194083798)  \n",
       "4    (40.63438406330588, -73.9415248319131)  "
      ]
     },
     "execution_count": 167,
     "metadata": {},
     "output_type": "execute_result"
    }
   ],
   "source": [
    "pd.set_option('display.max_columns', 65)\n",
    "df.head()"
   ]
  },
  {
   "cell_type": "markdown",
   "metadata": {},
   "source": [
    "### Speeding things up\n",
    "\n",
    "We're going to be looking at open and close times, agencies, and the complaints (both types and descriptor). The only kind of location-based thing we'll want is borough.\n",
    "\n",
    "**How much faster is it if we only read in those columns?**"
   ]
  },
  {
   "cell_type": "code",
   "execution_count": 168,
   "metadata": {
    "collapsed": true
   },
   "outputs": [],
   "source": [
    "df = pd.read_csv('data/311_Service_Requests_from_2010_to_Present.csv', nrows=1000000, usecols=['Created Date', 'Closed Date', 'Agency Name', 'Complaint Type', 'Descriptor', 'Borough'])"
   ]
  },
  {
   "cell_type": "code",
   "execution_count": 169,
   "metadata": {},
   "outputs": [
    {
     "data": {
      "text/plain": [
       "(1000000, 6)"
      ]
     },
     "execution_count": 169,
     "metadata": {},
     "output_type": "execute_result"
    }
   ],
   "source": [
    "df.shape"
   ]
  },
  {
   "cell_type": "markdown",
   "metadata": {},
   "source": [
    "## Converting the 'Created Date' and 'Closed Date' columns to datetimes\n",
    "\n",
    "### First, testing some things out\n",
    "\n",
    "Let's take a look at converting **Created Date**, but **not all at once**.\n",
    "\n",
    "1. Take 10,000 of them and try to convert them **without** a format string. Time it.\n",
    "2. Take the same 10,000 and try to convert them **with** a format string. Time it.\n",
    "\n",
    "If you tried to do all 1.8 million rows, **how long might it take with a format string vs without?**"
   ]
  },
  {
   "cell_type": "code",
   "execution_count": 170,
   "metadata": {},
   "outputs": [
    {
     "name": "stdout",
     "output_type": "stream",
     "text": [
      "CPU times: user 2.35 s, sys: 7.29 ms, total: 2.35 s\n",
      "Wall time: 2.36 s\n"
     ]
    },
    {
     "data": {
      "text/plain": [
       "0      2015-09-04 22:55:25\n",
       "1      2015-09-04 13:53:45\n",
       "2      2015-09-04 21:15:43\n",
       "3      2015-09-05 01:06:57\n",
       "4      2015-09-04 07:48:25\n",
       "5      2015-09-04 11:31:12\n",
       "6      2015-09-04 07:02:24\n",
       "7      2015-09-04 12:34:05\n",
       "8      2015-09-04 19:56:42\n",
       "9      2015-09-04 21:04:42\n",
       "10     2015-09-04 20:26:09\n",
       "11     2015-09-04 11:07:15\n",
       "12     2015-09-04 22:23:59\n",
       "13     2015-09-04 23:16:12\n",
       "14     2015-09-04 16:49:55\n",
       "15     2015-09-04 14:39:46\n",
       "16     2015-09-04 20:21:22\n",
       "17     2015-09-04 23:34:23\n",
       "18     2015-09-04 21:55:19\n",
       "19     2015-09-04 23:44:07\n",
       "20     2015-09-04 08:12:10\n",
       "21     2015-09-04 23:14:40\n",
       "22     2015-09-04 20:17:20\n",
       "23     2015-09-04 22:54:59\n",
       "24     2015-09-04 15:45:14\n",
       "25     2015-09-04 23:48:20\n",
       "26     2015-09-05 01:53:40\n",
       "27     2015-09-04 23:34:47\n",
       "28     2015-09-04 23:37:52\n",
       "29     2015-09-04 23:01:37\n",
       "               ...        \n",
       "9970   2015-09-07 13:39:12\n",
       "9971   2015-09-07 06:53:28\n",
       "9972   2015-09-07 06:10:00\n",
       "9973   2015-09-07 04:02:27\n",
       "9974   2015-09-07 09:00:33\n",
       "9975   2015-09-07 07:13:20\n",
       "9976   2015-09-07 14:47:56\n",
       "9977   2015-09-07 13:55:42\n",
       "9978   2015-09-07 05:30:49\n",
       "9979   2015-09-07 06:02:00\n",
       "9980   2015-09-07 19:57:57\n",
       "9981   2015-09-07 21:26:28\n",
       "9982   2015-09-07 11:49:55\n",
       "9983   2015-09-07 22:05:00\n",
       "9984   2015-09-07 09:18:10\n",
       "9985   2015-09-07 13:13:02\n",
       "9986   2015-09-07 12:26:18\n",
       "9987   2015-09-07 06:09:00\n",
       "9988   2015-09-07 18:41:04\n",
       "9989   2015-09-08 01:59:16\n",
       "9990   2015-09-07 06:04:00\n",
       "9991   2015-09-07 06:02:00\n",
       "9992   2015-09-07 22:40:23\n",
       "9993   2015-09-07 23:18:22\n",
       "9994   2015-09-07 15:05:00\n",
       "9995   2015-09-07 19:12:08\n",
       "9996   2015-09-07 21:11:00\n",
       "9997   2015-09-08 16:50:52\n",
       "9998   2015-09-08 07:27:55\n",
       "9999   2015-09-08 16:25:03\n",
       "Name: Created Date, Length: 10000, dtype: datetime64[ns]"
      ]
     },
     "execution_count": 170,
     "metadata": {},
     "output_type": "execute_result"
    }
   ],
   "source": [
    "%%time\n",
    "pd.to_datetime(df['Created Date'].head(10000))"
   ]
  },
  {
   "cell_type": "code",
   "execution_count": 94,
   "metadata": {},
   "outputs": [
    {
     "name": "stdout",
     "output_type": "stream",
     "text": [
      "CPU times: user 62.4 ms, sys: 692 µs, total: 63.1 ms\n",
      "Wall time: 62.8 ms\n"
     ]
    },
    {
     "data": {
      "text/plain": [
       "0      2015-09-04 22:55:25\n",
       "1      2015-09-04 13:53:45\n",
       "2      2015-09-04 21:15:43\n",
       "3      2015-09-05 01:06:57\n",
       "4      2015-09-04 07:48:25\n",
       "5      2015-09-04 11:31:12\n",
       "6      2015-09-04 07:02:24\n",
       "7      2015-09-04 12:34:05\n",
       "8      2015-09-04 19:56:42\n",
       "9      2015-09-04 21:04:42\n",
       "10     2015-09-04 20:26:09\n",
       "11     2015-09-04 11:07:15\n",
       "12     2015-09-04 22:23:59\n",
       "13     2015-09-04 23:16:12\n",
       "14     2015-09-04 16:49:55\n",
       "15     2015-09-04 14:39:46\n",
       "16     2015-09-04 20:21:22\n",
       "17     2015-09-04 23:34:23\n",
       "18     2015-09-04 21:55:19\n",
       "19     2015-09-04 23:44:07\n",
       "20     2015-09-04 08:12:10\n",
       "21     2015-09-04 23:14:40\n",
       "22     2015-09-04 20:17:20\n",
       "23     2015-09-04 22:54:59\n",
       "24     2015-09-04 15:45:14\n",
       "25     2015-09-04 23:48:20\n",
       "26     2015-09-05 01:53:40\n",
       "27     2015-09-04 23:34:47\n",
       "28     2015-09-04 23:37:52\n",
       "29     2015-09-04 23:01:37\n",
       "               ...        \n",
       "9970   2015-09-07 13:39:12\n",
       "9971   2015-09-07 06:53:28\n",
       "9972   2015-09-07 06:10:00\n",
       "9973   2015-09-07 04:02:27\n",
       "9974   2015-09-07 09:00:33\n",
       "9975   2015-09-07 07:13:20\n",
       "9976   2015-09-07 14:47:56\n",
       "9977   2015-09-07 13:55:42\n",
       "9978   2015-09-07 05:30:49\n",
       "9979   2015-09-07 06:02:00\n",
       "9980   2015-09-07 19:57:57\n",
       "9981   2015-09-07 21:26:28\n",
       "9982   2015-09-07 11:49:55\n",
       "9983   2015-09-07 22:05:00\n",
       "9984   2015-09-07 09:18:10\n",
       "9985   2015-09-07 13:13:02\n",
       "9986   2015-09-07 12:26:18\n",
       "9987   2015-09-07 06:09:00\n",
       "9988   2015-09-07 18:41:04\n",
       "9989   2015-09-08 01:59:16\n",
       "9990   2015-09-07 06:04:00\n",
       "9991   2015-09-07 06:02:00\n",
       "9992   2015-09-07 22:40:23\n",
       "9993   2015-09-07 23:18:22\n",
       "9994   2015-09-07 15:05:00\n",
       "9995   2015-09-07 19:12:08\n",
       "9996   2015-09-07 21:11:00\n",
       "9997   2015-09-08 16:50:52\n",
       "9998   2015-09-08 07:27:55\n",
       "9999   2015-09-08 16:25:03\n",
       "Name: Created Date, Length: 10000, dtype: datetime64[ns]"
      ]
     },
     "execution_count": 94,
     "metadata": {},
     "output_type": "execute_result"
    }
   ],
   "source": [
    "%%time\n",
    "pd.to_datetime(df['Created Date'].head(10000), format='%m/%d/%Y %I:%M:%S %p')"
   ]
  },
  {
   "cell_type": "markdown",
   "metadata": {},
   "source": [
    "### Creating new columns\n",
    "\n",
    "Create new columns called `created_at` and `closed_at` from the `Created Date` and `Closed Date` columns. Do them individually, and **time them**."
   ]
  },
  {
   "cell_type": "code",
   "execution_count": 171,
   "metadata": {},
   "outputs": [
    {
     "name": "stdout",
     "output_type": "stream",
     "text": [
      "CPU times: user 5.09 s, sys: 27.8 ms, total: 5.11 s\n",
      "Wall time: 5.11 s\n"
     ]
    }
   ],
   "source": [
    "%%time\n",
    "df['created_at'] = pd.to_datetime(df['Created Date'], format='%m/%d/%Y %I:%M:%S %p')"
   ]
  },
  {
   "cell_type": "code",
   "execution_count": 172,
   "metadata": {},
   "outputs": [
    {
     "name": "stdout",
     "output_type": "stream",
     "text": [
      "CPU times: user 5 s, sys: 40.2 ms, total: 5.05 s\n",
      "Wall time: 5.08 s\n"
     ]
    }
   ],
   "source": [
    "%%time\n",
    "df['closed_at'] = pd.to_datetime(df['Closed Date'], format='%m/%d/%Y %I:%M:%S %p')"
   ]
  },
  {
   "cell_type": "markdown",
   "metadata": {},
   "source": [
    "### Confirming they look okay\n",
    "\n",
    "Take a look at the first few rows to make sure the dates look correct, and then make sure their data type is `datetime64[ns]`."
   ]
  },
  {
   "cell_type": "code",
   "execution_count": 173,
   "metadata": {},
   "outputs": [
    {
     "data": {
      "text/html": [
       "<div>\n",
       "<style>\n",
       "    .dataframe thead tr:only-child th {\n",
       "        text-align: right;\n",
       "    }\n",
       "\n",
       "    .dataframe thead th {\n",
       "        text-align: left;\n",
       "    }\n",
       "\n",
       "    .dataframe tbody tr th {\n",
       "        vertical-align: top;\n",
       "    }\n",
       "</style>\n",
       "<table border=\"1\" class=\"dataframe\">\n",
       "  <thead>\n",
       "    <tr style=\"text-align: right;\">\n",
       "      <th></th>\n",
       "      <th>Created Date</th>\n",
       "      <th>Closed Date</th>\n",
       "      <th>Agency Name</th>\n",
       "      <th>Complaint Type</th>\n",
       "      <th>Descriptor</th>\n",
       "      <th>Borough</th>\n",
       "      <th>created_at</th>\n",
       "      <th>closed_at</th>\n",
       "    </tr>\n",
       "  </thead>\n",
       "  <tbody>\n",
       "    <tr>\n",
       "      <th>0</th>\n",
       "      <td>09/04/2015 10:55:25 PM</td>\n",
       "      <td>09/05/2015 02:06:54 AM</td>\n",
       "      <td>New York City Police Department</td>\n",
       "      <td>Noise - Street/Sidewalk</td>\n",
       "      <td>Loud Music/Party</td>\n",
       "      <td>BRONX</td>\n",
       "      <td>2015-09-04 22:55:25</td>\n",
       "      <td>2015-09-05 02:06:54</td>\n",
       "    </tr>\n",
       "    <tr>\n",
       "      <th>1</th>\n",
       "      <td>09/04/2015 01:53:45 PM</td>\n",
       "      <td>09/04/2015 06:37:24 PM</td>\n",
       "      <td>New York City Police Department</td>\n",
       "      <td>Noise - Street/Sidewalk</td>\n",
       "      <td>Loud Music/Party</td>\n",
       "      <td>MANHATTAN</td>\n",
       "      <td>2015-09-04 13:53:45</td>\n",
       "      <td>2015-09-04 18:37:24</td>\n",
       "    </tr>\n",
       "    <tr>\n",
       "      <th>2</th>\n",
       "      <td>09/04/2015 09:15:43 PM</td>\n",
       "      <td>09/04/2015 10:32:01 PM</td>\n",
       "      <td>New York City Police Department</td>\n",
       "      <td>Noise - Street/Sidewalk</td>\n",
       "      <td>Loud Music/Party</td>\n",
       "      <td>MANHATTAN</td>\n",
       "      <td>2015-09-04 21:15:43</td>\n",
       "      <td>2015-09-04 22:32:01</td>\n",
       "    </tr>\n",
       "    <tr>\n",
       "      <th>3</th>\n",
       "      <td>09/05/2015 01:06:57 AM</td>\n",
       "      <td>09/05/2015 02:26:43 AM</td>\n",
       "      <td>New York City Police Department</td>\n",
       "      <td>Noise - Commercial</td>\n",
       "      <td>Loud Music/Party</td>\n",
       "      <td>BROOKLYN</td>\n",
       "      <td>2015-09-05 01:06:57</td>\n",
       "      <td>2015-09-05 02:26:43</td>\n",
       "    </tr>\n",
       "    <tr>\n",
       "      <th>4</th>\n",
       "      <td>09/04/2015 07:48:25 AM</td>\n",
       "      <td>09/04/2015 05:21:18 PM</td>\n",
       "      <td>New York City Police Department</td>\n",
       "      <td>Illegal Parking</td>\n",
       "      <td>Overnight Commercial Storage</td>\n",
       "      <td>BROOKLYN</td>\n",
       "      <td>2015-09-04 07:48:25</td>\n",
       "      <td>2015-09-04 17:21:18</td>\n",
       "    </tr>\n",
       "  </tbody>\n",
       "</table>\n",
       "</div>"
      ],
      "text/plain": [
       "             Created Date             Closed Date  \\\n",
       "0  09/04/2015 10:55:25 PM  09/05/2015 02:06:54 AM   \n",
       "1  09/04/2015 01:53:45 PM  09/04/2015 06:37:24 PM   \n",
       "2  09/04/2015 09:15:43 PM  09/04/2015 10:32:01 PM   \n",
       "3  09/05/2015 01:06:57 AM  09/05/2015 02:26:43 AM   \n",
       "4  09/04/2015 07:48:25 AM  09/04/2015 05:21:18 PM   \n",
       "\n",
       "                       Agency Name           Complaint Type  \\\n",
       "0  New York City Police Department  Noise - Street/Sidewalk   \n",
       "1  New York City Police Department  Noise - Street/Sidewalk   \n",
       "2  New York City Police Department  Noise - Street/Sidewalk   \n",
       "3  New York City Police Department       Noise - Commercial   \n",
       "4  New York City Police Department          Illegal Parking   \n",
       "\n",
       "                     Descriptor    Borough          created_at  \\\n",
       "0              Loud Music/Party      BRONX 2015-09-04 22:55:25   \n",
       "1              Loud Music/Party  MANHATTAN 2015-09-04 13:53:45   \n",
       "2              Loud Music/Party  MANHATTAN 2015-09-04 21:15:43   \n",
       "3              Loud Music/Party   BROOKLYN 2015-09-05 01:06:57   \n",
       "4  Overnight Commercial Storage   BROOKLYN 2015-09-04 07:48:25   \n",
       "\n",
       "            closed_at  \n",
       "0 2015-09-05 02:06:54  \n",
       "1 2015-09-04 18:37:24  \n",
       "2 2015-09-04 22:32:01  \n",
       "3 2015-09-05 02:26:43  \n",
       "4 2015-09-04 17:21:18  "
      ]
     },
     "execution_count": 173,
     "metadata": {},
     "output_type": "execute_result"
    }
   ],
   "source": [
    "df.head()"
   ]
  },
  {
   "cell_type": "code",
   "execution_count": 174,
   "metadata": {},
   "outputs": [
    {
     "data": {
      "text/plain": [
       "Created Date              object\n",
       "Closed Date               object\n",
       "Agency Name               object\n",
       "Complaint Type            object\n",
       "Descriptor                object\n",
       "Borough                   object\n",
       "created_at        datetime64[ns]\n",
       "closed_at         datetime64[ns]\n",
       "dtype: object"
      ]
     },
     "execution_count": 174,
     "metadata": {},
     "output_type": "execute_result"
    }
   ],
   "source": [
    "df.dtypes"
   ]
  },
  {
   "cell_type": "markdown",
   "metadata": {},
   "source": [
    "# Examining agencies"
   ]
  },
  {
   "cell_type": "markdown",
   "metadata": {},
   "source": [
    "Who has more 311 requests, the Department of Transportation or the NYPD?"
   ]
  },
  {
   "cell_type": "code",
   "execution_count": 175,
   "metadata": {},
   "outputs": [
    {
     "data": {
      "text/plain": [
       "New York City Police Department    713505\n",
       "Department of Transportation       286484\n",
       "NYPD                                    5\n",
       "Internal Affairs Bureau                 2\n",
       "Investigation Review Section            2\n",
       "DOT                                     2\n",
       "Name: Agency Name, dtype: int64"
      ]
     },
     "execution_count": 175,
     "metadata": {},
     "output_type": "execute_result"
    }
   ],
   "source": [
    "df['Agency Name'].value_counts()"
   ]
  },
  {
   "cell_type": "code",
   "execution_count": 176,
   "metadata": {},
   "outputs": [
    {
     "data": {
      "text/plain": [
       "Created Date      286486\n",
       "Closed Date       283341\n",
       "Agency Name       286486\n",
       "Complaint Type    286486\n",
       "Descriptor        286486\n",
       "Borough           286486\n",
       "created_at        286486\n",
       "closed_at         283341\n",
       "dtype: int64"
      ]
     },
     "execution_count": 176,
     "metadata": {},
     "output_type": "execute_result"
    }
   ],
   "source": [
    "df[df['Agency Name'].isin(['Department of Transportation', 'DOT'])].count()"
   ]
  },
  {
   "cell_type": "code",
   "execution_count": 177,
   "metadata": {},
   "outputs": [
    {
     "data": {
      "text/plain": [
       "Created Date      713510\n",
       "Closed Date       710253\n",
       "Agency Name       713510\n",
       "Complaint Type    713510\n",
       "Descriptor        705791\n",
       "Borough           713510\n",
       "created_at        713510\n",
       "closed_at         710253\n",
       "dtype: int64"
      ]
     },
     "execution_count": 177,
     "metadata": {},
     "output_type": "execute_result"
    }
   ],
   "source": [
    "df[df['Agency Name'].isin(['New York City Police Department', 'NYPD'])].count()"
   ]
  },
  {
   "cell_type": "markdown",
   "metadata": {},
   "source": [
    "## What's the difference between \"Complaint Type\" and \"Descriptor\" columns?"
   ]
  },
  {
   "cell_type": "code",
   "execution_count": 178,
   "metadata": {},
   "outputs": [
    {
     "data": {
      "text/plain": [
       "Noise - Residential       240381\n",
       "Illegal Parking           125198\n",
       "Blocked Driveway          124199\n",
       "Street Condition           95769\n",
       "Street Light Condition     92951\n",
       "Name: Complaint Type, dtype: int64"
      ]
     },
     "execution_count": 178,
     "metadata": {},
     "output_type": "execute_result"
    }
   ],
   "source": [
    "df['Complaint Type'].value_counts().head()"
   ]
  },
  {
   "cell_type": "markdown",
   "metadata": {},
   "source": [
    "Complaint Tyep: \"Full Agency name of responding City Government Agency\", source: https://nycopendata.socrata.com/Social-Services/311-Service-Requests-from-2010-to-Present/erm2-nwe9#schema-preview"
   ]
  },
  {
   "cell_type": "code",
   "execution_count": 179,
   "metadata": {},
   "outputs": [
    {
     "data": {
      "text/plain": [
       "Loud Music/Party    245017\n",
       "No Access            92081\n",
       "Street Light Out     73728\n",
       "Banging/Pounding     69190\n",
       "Pothole              59203\n",
       "Name: Descriptor, dtype: int64"
      ]
     },
     "execution_count": 179,
     "metadata": {},
     "output_type": "execute_result"
    }
   ],
   "source": [
    "df['Descriptor'].value_counts().head()"
   ]
  },
  {
   "cell_type": "markdown",
   "metadata": {},
   "source": [
    "Descriptor: \"This is associated to the Complaint Type, and provides further detail on the incident or condition. Descriptor values are dependent on the Complaint Type, and are not always required in SR.\", source: https://nycopendata.socrata.com/Social-Services/311-Service-Requests-from-2010-to-Present/erm2-nwe9#schema-preview"
   ]
  },
  {
   "cell_type": "markdown",
   "metadata": {},
   "source": [
    "## What are the most popular categories of complaints for the NYPD? For the DOT?"
   ]
  },
  {
   "cell_type": "code",
   "execution_count": 180,
   "metadata": {
    "collapsed": true
   },
   "outputs": [],
   "source": [
    "df_DOT = df[df['Agency Name'].isin(['Department of Transportation', 'DOT'])]"
   ]
  },
  {
   "cell_type": "code",
   "execution_count": 181,
   "metadata": {},
   "outputs": [
    {
     "data": {
      "text/plain": [
       "Street Condition    95768\n",
       "Name: Complaint Type, dtype: int64"
      ]
     },
     "execution_count": 181,
     "metadata": {},
     "output_type": "execute_result"
    }
   ],
   "source": [
    "df_DOT['Complaint Type'].value_counts().head(1)"
   ]
  },
  {
   "cell_type": "code",
   "execution_count": 182,
   "metadata": {
    "collapsed": true
   },
   "outputs": [],
   "source": [
    "df_NYPD = df[df['Agency Name'].isin(['New York City Police Department', 'NYPD'])]"
   ]
  },
  {
   "cell_type": "code",
   "execution_count": 183,
   "metadata": {},
   "outputs": [
    {
     "data": {
      "text/plain": [
       "Noise - Residential    240380\n",
       "Name: Complaint Type, dtype: int64"
      ]
     },
     "execution_count": 183,
     "metadata": {},
     "output_type": "execute_result"
    }
   ],
   "source": [
    "df_NYPD['Complaint Type'].value_counts().head(1)"
   ]
  },
  {
   "cell_type": "markdown",
   "metadata": {},
   "source": [
    "## When people are complaining about street conditions, what are they usually complaining about?"
   ]
  },
  {
   "cell_type": "code",
   "execution_count": 185,
   "metadata": {},
   "outputs": [
    {
     "data": {
      "text/plain": [
       "Pothole                           59110\n",
       "Cave-in                           10212\n",
       "Defective Hardware                 5816\n",
       "Rough, Pitted or Cracked Roads     5144\n",
       "Blocked - Construction             4078\n",
       "Name: Descriptor, dtype: int64"
      ]
     },
     "execution_count": 185,
     "metadata": {},
     "output_type": "execute_result"
    }
   ],
   "source": [
    "df[df['Complaint Type'] == 'Street Condition']['Descriptor'].value_counts().head()"
   ]
  },
  {
   "cell_type": "markdown",
   "metadata": {},
   "source": [
    "## What kinds of noise are they complaining about when making residential noise complaints?"
   ]
  },
  {
   "cell_type": "code",
   "execution_count": 186,
   "metadata": {},
   "outputs": [
    {
     "data": {
      "text/plain": [
       "Loud Music/Party    159276\n",
       "Banging/Pounding     59465\n",
       "Loud Talking         17484\n",
       "Loud Television       4156\n",
       "Name: Descriptor, dtype: int64"
      ]
     },
     "execution_count": 186,
     "metadata": {},
     "output_type": "execute_result"
    }
   ],
   "source": [
    "df[df['Complaint Type'] == 'Noise - Residential']['Descriptor'].value_counts().head()"
   ]
  },
  {
   "cell_type": "markdown",
   "metadata": {},
   "source": [
    "# Timing our complaints\n",
    "\n",
    "How many complaints were filed each month?\n",
    "\n",
    "- Tip: You'll probably want to `.set_index` first!"
   ]
  },
  {
   "cell_type": "code",
   "execution_count": 187,
   "metadata": {},
   "outputs": [
    {
     "name": "stdout",
     "output_type": "stream",
     "text": [
      "CPU times: user 3.72 ms, sys: 2.99 ms, total: 6.71 ms\n",
      "Wall time: 7.7 ms\n"
     ]
    }
   ],
   "source": [
    "%%time\n",
    "df.set_index('created_at', inplace=True)"
   ]
  },
  {
   "cell_type": "code",
   "execution_count": 188,
   "metadata": {},
   "outputs": [
    {
     "data": {
      "text/html": [
       "<div>\n",
       "<style>\n",
       "    .dataframe thead tr:only-child th {\n",
       "        text-align: right;\n",
       "    }\n",
       "\n",
       "    .dataframe thead th {\n",
       "        text-align: left;\n",
       "    }\n",
       "\n",
       "    .dataframe tbody tr th {\n",
       "        vertical-align: top;\n",
       "    }\n",
       "</style>\n",
       "<table border=\"1\" class=\"dataframe\">\n",
       "  <thead>\n",
       "    <tr style=\"text-align: right;\">\n",
       "      <th></th>\n",
       "      <th>Created Date</th>\n",
       "      <th>Closed Date</th>\n",
       "      <th>Agency Name</th>\n",
       "      <th>Complaint Type</th>\n",
       "      <th>Descriptor</th>\n",
       "      <th>Borough</th>\n",
       "      <th>closed_at</th>\n",
       "    </tr>\n",
       "    <tr>\n",
       "      <th>created_at</th>\n",
       "      <th></th>\n",
       "      <th></th>\n",
       "      <th></th>\n",
       "      <th></th>\n",
       "      <th></th>\n",
       "      <th></th>\n",
       "      <th></th>\n",
       "    </tr>\n",
       "  </thead>\n",
       "  <tbody>\n",
       "    <tr>\n",
       "      <th>2015-09-04 22:55:25</th>\n",
       "      <td>09/04/2015 10:55:25 PM</td>\n",
       "      <td>09/05/2015 02:06:54 AM</td>\n",
       "      <td>New York City Police Department</td>\n",
       "      <td>Noise - Street/Sidewalk</td>\n",
       "      <td>Loud Music/Party</td>\n",
       "      <td>BRONX</td>\n",
       "      <td>2015-09-05 02:06:54</td>\n",
       "    </tr>\n",
       "    <tr>\n",
       "      <th>2015-09-04 13:53:45</th>\n",
       "      <td>09/04/2015 01:53:45 PM</td>\n",
       "      <td>09/04/2015 06:37:24 PM</td>\n",
       "      <td>New York City Police Department</td>\n",
       "      <td>Noise - Street/Sidewalk</td>\n",
       "      <td>Loud Music/Party</td>\n",
       "      <td>MANHATTAN</td>\n",
       "      <td>2015-09-04 18:37:24</td>\n",
       "    </tr>\n",
       "    <tr>\n",
       "      <th>2015-09-04 21:15:43</th>\n",
       "      <td>09/04/2015 09:15:43 PM</td>\n",
       "      <td>09/04/2015 10:32:01 PM</td>\n",
       "      <td>New York City Police Department</td>\n",
       "      <td>Noise - Street/Sidewalk</td>\n",
       "      <td>Loud Music/Party</td>\n",
       "      <td>MANHATTAN</td>\n",
       "      <td>2015-09-04 22:32:01</td>\n",
       "    </tr>\n",
       "    <tr>\n",
       "      <th>2015-09-05 01:06:57</th>\n",
       "      <td>09/05/2015 01:06:57 AM</td>\n",
       "      <td>09/05/2015 02:26:43 AM</td>\n",
       "      <td>New York City Police Department</td>\n",
       "      <td>Noise - Commercial</td>\n",
       "      <td>Loud Music/Party</td>\n",
       "      <td>BROOKLYN</td>\n",
       "      <td>2015-09-05 02:26:43</td>\n",
       "    </tr>\n",
       "    <tr>\n",
       "      <th>2015-09-04 07:48:25</th>\n",
       "      <td>09/04/2015 07:48:25 AM</td>\n",
       "      <td>09/04/2015 05:21:18 PM</td>\n",
       "      <td>New York City Police Department</td>\n",
       "      <td>Illegal Parking</td>\n",
       "      <td>Overnight Commercial Storage</td>\n",
       "      <td>BROOKLYN</td>\n",
       "      <td>2015-09-04 17:21:18</td>\n",
       "    </tr>\n",
       "  </tbody>\n",
       "</table>\n",
       "</div>"
      ],
      "text/plain": [
       "                               Created Date             Closed Date  \\\n",
       "created_at                                                            \n",
       "2015-09-04 22:55:25  09/04/2015 10:55:25 PM  09/05/2015 02:06:54 AM   \n",
       "2015-09-04 13:53:45  09/04/2015 01:53:45 PM  09/04/2015 06:37:24 PM   \n",
       "2015-09-04 21:15:43  09/04/2015 09:15:43 PM  09/04/2015 10:32:01 PM   \n",
       "2015-09-05 01:06:57  09/05/2015 01:06:57 AM  09/05/2015 02:26:43 AM   \n",
       "2015-09-04 07:48:25  09/04/2015 07:48:25 AM  09/04/2015 05:21:18 PM   \n",
       "\n",
       "                                         Agency Name           Complaint Type  \\\n",
       "created_at                                                                      \n",
       "2015-09-04 22:55:25  New York City Police Department  Noise - Street/Sidewalk   \n",
       "2015-09-04 13:53:45  New York City Police Department  Noise - Street/Sidewalk   \n",
       "2015-09-04 21:15:43  New York City Police Department  Noise - Street/Sidewalk   \n",
       "2015-09-05 01:06:57  New York City Police Department       Noise - Commercial   \n",
       "2015-09-04 07:48:25  New York City Police Department          Illegal Parking   \n",
       "\n",
       "                                       Descriptor    Borough  \\\n",
       "created_at                                                     \n",
       "2015-09-04 22:55:25              Loud Music/Party      BRONX   \n",
       "2015-09-04 13:53:45              Loud Music/Party  MANHATTAN   \n",
       "2015-09-04 21:15:43              Loud Music/Party  MANHATTAN   \n",
       "2015-09-05 01:06:57              Loud Music/Party   BROOKLYN   \n",
       "2015-09-04 07:48:25  Overnight Commercial Storage   BROOKLYN   \n",
       "\n",
       "                              closed_at  \n",
       "created_at                               \n",
       "2015-09-04 22:55:25 2015-09-05 02:06:54  \n",
       "2015-09-04 13:53:45 2015-09-04 18:37:24  \n",
       "2015-09-04 21:15:43 2015-09-04 22:32:01  \n",
       "2015-09-05 01:06:57 2015-09-05 02:26:43  \n",
       "2015-09-04 07:48:25 2015-09-04 17:21:18  "
      ]
     },
     "execution_count": 188,
     "metadata": {},
     "output_type": "execute_result"
    }
   ],
   "source": [
    "df.head()"
   ]
  },
  {
   "cell_type": "code",
   "execution_count": 189,
   "metadata": {},
   "outputs": [
    {
     "data": {
      "text/plain": [
       "Int64Index([9, 9, 9, 9, 9, 9, 9, 9, 9, 9,\n",
       "            ...\n",
       "            8, 8, 8, 8, 8, 8, 8, 7, 8, 2],\n",
       "           dtype='int64', name='created_at', length=1000000)"
      ]
     },
     "execution_count": 189,
     "metadata": {},
     "output_type": "execute_result"
    }
   ],
   "source": [
    "df.index.month"
   ]
  },
  {
   "cell_type": "code",
   "execution_count": 194,
   "metadata": {},
   "outputs": [
    {
     "data": {
      "text/plain": [
       "1      68201\n",
       "2      68178\n",
       "3      78099\n",
       "4      79555\n",
       "5      91892\n",
       "6      90978\n",
       "7      81329\n",
       "8      76072\n",
       "9     144501\n",
       "10     85619\n",
       "11     65929\n",
       "12     69647\n",
       "Name: created_at, dtype: int64"
      ]
     },
     "execution_count": 194,
     "metadata": {},
     "output_type": "execute_result"
    }
   ],
   "source": [
    "df.index.month.value_counts().sort_index()"
   ]
  },
  {
   "cell_type": "markdown",
   "metadata": {},
   "source": [
    "## Plot how many requests were filed each month"
   ]
  },
  {
   "cell_type": "code",
   "execution_count": 115,
   "metadata": {
    "collapsed": true
   },
   "outputs": [],
   "source": [
    "import matplotlib.pyplot as plt\n",
    "plt.style.use('ggplot')"
   ]
  },
  {
   "cell_type": "code",
   "execution_count": 116,
   "metadata": {},
   "outputs": [
    {
     "data": {
      "text/plain": [
       "(1000000, 7)"
      ]
     },
     "execution_count": 116,
     "metadata": {},
     "output_type": "execute_result"
    }
   ],
   "source": [
    "df.shape"
   ]
  },
  {
   "cell_type": "code",
   "execution_count": 118,
   "metadata": {},
   "outputs": [
    {
     "data": {
      "text/plain": [
       "<matplotlib.axes._subplots.AxesSubplot at 0x1ad57a978>"
      ]
     },
     "execution_count": 118,
     "metadata": {},
     "output_type": "execute_result"
    },
    {
     "data": {
      "image/png": "[encoded data removed]",
      "text/plain": [
       "<matplotlib.figure.Figure at 0x1ad57a710>"
      ]
     },
     "metadata": {},
     "output_type": "display_data"
    }
   ],
   "source": [
    "df.index.month.value_counts().sort_index().plot()"
   ]
  },
  {
   "cell_type": "markdown",
   "metadata": {},
   "source": [
    "# Hmmm, it looks like a cycle\n",
    "\n",
    "What could cause that? Try a couple comparisons to see if you can find out.\n",
    "\n",
    "- Tip: Maybe the most popular summer complaints vs winter\n",
    "- Tip: Maybe graphing the different agencies on the same graph\n",
    "\n",
    "If you don't figure it out **that's okay!** "
   ]
  },
  {
   "cell_type": "code",
   "execution_count": 210,
   "metadata": {},
   "outputs": [
    {
     "data": {
      "text/plain": [
       "<matplotlib.axes._subplots.AxesSubplot at 0x26791bc88>"
      ]
     },
     "execution_count": 210,
     "metadata": {},
     "output_type": "execute_result"
    },
    {
     "data": {
      "image/png": "[encoded data removed]",
      "text/plain": [
       "<matplotlib.figure.Figure at 0x2678db518>"
      ]
     },
     "metadata": {},
     "output_type": "display_data"
    }
   ],
   "source": [
    "df[df.index.month.isin([8,9,10])]['Complaint Type'].value_counts().head(10).plot(kind='bar', color='yellow', figsize=(18,5))\n",
    "df[df.index.month.isin([12,1,2])]['Complaint Type'].value_counts().head(10).plot(kind='bar', figsize=(18,5), alpha=0.5)"
   ]
  },
  {
   "cell_type": "code",
   "execution_count": 211,
   "metadata": {},
   "outputs": [
    {
     "data": {
      "text/plain": [
       "Created Date              object\n",
       "Closed Date               object\n",
       "Agency Name               object\n",
       "Complaint Type            object\n",
       "Descriptor                object\n",
       "Borough                   object\n",
       "closed_at         datetime64[ns]\n",
       "dtype: object"
      ]
     },
     "execution_count": 211,
     "metadata": {},
     "output_type": "execute_result"
    }
   ],
   "source": [
    "df.dtypes"
   ]
  },
  {
   "cell_type": "code",
   "execution_count": 224,
   "metadata": {},
   "outputs": [
    {
     "data": {
      "text/plain": [
       "<matplotlib.axes._subplots.AxesSubplot at 0x200a94978>"
      ]
     },
     "execution_count": 224,
     "metadata": {},
     "output_type": "execute_result"
    },
    {
     "data": {
      "image/png": "[encoded data removed]",
      "text/plain": [
       "<matplotlib.figure.Figure at 0x2009e41d0>"
      ]
     },
     "metadata": {},
     "output_type": "display_data"
    }
   ],
   "source": [
    "df[df['Agency Name'].isin(['Department of Transportation', 'DOT'])].index.month.value_counts().sort_index().plot()\n",
    "df[df['Agency Name'].isin(['New York City Police Department', 'NYPD'])].index.month.value_counts().sort_index().plot()"
   ]
  },
  {
   "cell_type": "markdown",
   "metadata": {},
   "source": [
    "## Time of day\n",
    "\n",
    "### What time of day do people complain?"
   ]
  },
  {
   "cell_type": "code",
   "execution_count": 239,
   "metadata": {},
   "outputs": [
    {
     "data": {
      "text/plain": [
       "23    70716\n",
       "22    68129\n",
       "21    58400\n",
       "11    58179\n",
       "0     56180\n",
       "Name: created_at, dtype: int64"
      ]
     },
     "execution_count": 239,
     "metadata": {},
     "output_type": "execute_result"
    }
   ],
   "source": [
    "df.index.hour.value_counts().head()"
   ]
  },
  {
   "cell_type": "markdown",
   "metadata": {},
   "source": [
    "### What time of day do people complain about potholes?"
   ]
  },
  {
   "cell_type": "code",
   "execution_count": 237,
   "metadata": {},
   "outputs": [
    {
     "data": {
      "text/plain": [
       "14    6510\n",
       "13    5104\n",
       "15    4858\n",
       "7     4416\n",
       "12    4187\n",
       "Name: created_at, dtype: int64"
      ]
     },
     "execution_count": 237,
     "metadata": {},
     "output_type": "execute_result"
    }
   ],
   "source": [
    "df[df['Descriptor'] == 'Pothole'].index.hour.value_counts().head()"
   ]
  },
  {
   "cell_type": "code",
   "execution_count": 243,
   "metadata": {},
   "outputs": [
    {
     "data": {
      "text/html": [
       "<div>\n",
       "<style>\n",
       "    .dataframe thead tr:only-child th {\n",
       "        text-align: right;\n",
       "    }\n",
       "\n",
       "    .dataframe thead th {\n",
       "        text-align: left;\n",
       "    }\n",
       "\n",
       "    .dataframe tbody tr th {\n",
       "        vertical-align: top;\n",
       "    }\n",
       "</style>\n",
       "<table border=\"1\" class=\"dataframe\">\n",
       "  <thead>\n",
       "    <tr style=\"text-align: right;\">\n",
       "      <th></th>\n",
       "      <th>Created Date</th>\n",
       "      <th>Closed Date</th>\n",
       "      <th>Agency Name</th>\n",
       "      <th>Complaint Type</th>\n",
       "      <th>Descriptor</th>\n",
       "      <th>Borough</th>\n",
       "      <th>closed_at</th>\n",
       "    </tr>\n",
       "    <tr>\n",
       "      <th>created_at</th>\n",
       "      <th></th>\n",
       "      <th></th>\n",
       "      <th></th>\n",
       "      <th></th>\n",
       "      <th></th>\n",
       "      <th></th>\n",
       "      <th></th>\n",
       "    </tr>\n",
       "  </thead>\n",
       "  <tbody>\n",
       "    <tr>\n",
       "      <th>2015-09-04 22:55:25</th>\n",
       "      <td>09/04/2015 10:55:25 PM</td>\n",
       "      <td>09/05/2015 02:06:54 AM</td>\n",
       "      <td>New York City Police Department</td>\n",
       "      <td>Noise - Street/Sidewalk</td>\n",
       "      <td>Loud Music/Party</td>\n",
       "      <td>BRONX</td>\n",
       "      <td>2015-09-05 02:06:54</td>\n",
       "    </tr>\n",
       "    <tr>\n",
       "      <th>2015-09-04 13:53:45</th>\n",
       "      <td>09/04/2015 01:53:45 PM</td>\n",
       "      <td>09/04/2015 06:37:24 PM</td>\n",
       "      <td>New York City Police Department</td>\n",
       "      <td>Noise - Street/Sidewalk</td>\n",
       "      <td>Loud Music/Party</td>\n",
       "      <td>MANHATTAN</td>\n",
       "      <td>2015-09-04 18:37:24</td>\n",
       "    </tr>\n",
       "    <tr>\n",
       "      <th>2015-09-04 21:15:43</th>\n",
       "      <td>09/04/2015 09:15:43 PM</td>\n",
       "      <td>09/04/2015 10:32:01 PM</td>\n",
       "      <td>New York City Police Department</td>\n",
       "      <td>Noise - Street/Sidewalk</td>\n",
       "      <td>Loud Music/Party</td>\n",
       "      <td>MANHATTAN</td>\n",
       "      <td>2015-09-04 22:32:01</td>\n",
       "    </tr>\n",
       "    <tr>\n",
       "      <th>2015-09-05 01:06:57</th>\n",
       "      <td>09/05/2015 01:06:57 AM</td>\n",
       "      <td>09/05/2015 02:26:43 AM</td>\n",
       "      <td>New York City Police Department</td>\n",
       "      <td>Noise - Commercial</td>\n",
       "      <td>Loud Music/Party</td>\n",
       "      <td>BROOKLYN</td>\n",
       "      <td>2015-09-05 02:26:43</td>\n",
       "    </tr>\n",
       "    <tr>\n",
       "      <th>2015-09-04 07:48:25</th>\n",
       "      <td>09/04/2015 07:48:25 AM</td>\n",
       "      <td>09/04/2015 05:21:18 PM</td>\n",
       "      <td>New York City Police Department</td>\n",
       "      <td>Illegal Parking</td>\n",
       "      <td>Overnight Commercial Storage</td>\n",
       "      <td>BROOKLYN</td>\n",
       "      <td>2015-09-04 17:21:18</td>\n",
       "    </tr>\n",
       "    <tr>\n",
       "      <th>2015-09-04 11:31:12</th>\n",
       "      <td>09/04/2015 11:31:12 AM</td>\n",
       "      <td>09/04/2015 03:01:54 PM</td>\n",
       "      <td>New York City Police Department</td>\n",
       "      <td>Illegal Parking</td>\n",
       "      <td>Overnight Commercial Storage</td>\n",
       "      <td>BROOKLYN</td>\n",
       "      <td>2015-09-04 15:01:54</td>\n",
       "    </tr>\n",
       "    <tr>\n",
       "      <th>2015-09-04 07:02:24</th>\n",
       "      <td>09/04/2015 07:02:24 AM</td>\n",
       "      <td>09/04/2015 01:55:53 PM</td>\n",
       "      <td>New York City Police Department</td>\n",
       "      <td>Illegal Parking</td>\n",
       "      <td>Posted Parking Sign Violation</td>\n",
       "      <td>BROOKLYN</td>\n",
       "      <td>2015-09-04 13:55:53</td>\n",
       "    </tr>\n",
       "    <tr>\n",
       "      <th>2015-09-04 12:34:05</th>\n",
       "      <td>09/04/2015 12:34:05 PM</td>\n",
       "      <td>09/04/2015 01:38:47 PM</td>\n",
       "      <td>New York City Police Department</td>\n",
       "      <td>Illegal Parking</td>\n",
       "      <td>Posted Parking Sign Violation</td>\n",
       "      <td>MANHATTAN</td>\n",
       "      <td>2015-09-04 13:38:47</td>\n",
       "    </tr>\n",
       "    <tr>\n",
       "      <th>2015-09-04 19:56:42</th>\n",
       "      <td>09/04/2015 07:56:42 PM</td>\n",
       "      <td>09/04/2015 09:18:31 PM</td>\n",
       "      <td>New York City Police Department</td>\n",
       "      <td>Illegal Parking</td>\n",
       "      <td>Posted Parking Sign Violation</td>\n",
       "      <td>STATEN ISLAND</td>\n",
       "      <td>2015-09-04 21:18:31</td>\n",
       "    </tr>\n",
       "    <tr>\n",
       "      <th>2015-09-04 21:04:42</th>\n",
       "      <td>09/04/2015 09:04:42 PM</td>\n",
       "      <td>09/05/2015 12:39:53 AM</td>\n",
       "      <td>New York City Police Department</td>\n",
       "      <td>Noise - Street/Sidewalk</td>\n",
       "      <td>Loud Music/Party</td>\n",
       "      <td>BRONX</td>\n",
       "      <td>2015-09-05 00:39:53</td>\n",
       "    </tr>\n",
       "    <tr>\n",
       "      <th>2015-09-04 20:26:09</th>\n",
       "      <td>09/04/2015 08:26:09 PM</td>\n",
       "      <td>09/05/2015 01:09:44 AM</td>\n",
       "      <td>New York City Police Department</td>\n",
       "      <td>Noise - Street/Sidewalk</td>\n",
       "      <td>Loud Music/Party</td>\n",
       "      <td>QUEENS</td>\n",
       "      <td>2015-09-05 01:09:44</td>\n",
       "    </tr>\n",
       "    <tr>\n",
       "      <th>2015-09-04 11:07:15</th>\n",
       "      <td>09/04/2015 11:07:15 AM</td>\n",
       "      <td>09/04/2015 11:16:33 AM</td>\n",
       "      <td>New York City Police Department</td>\n",
       "      <td>Noise - Street/Sidewalk</td>\n",
       "      <td>Loud Music/Party</td>\n",
       "      <td>MANHATTAN</td>\n",
       "      <td>2015-09-04 11:16:33</td>\n",
       "    </tr>\n",
       "    <tr>\n",
       "      <th>2015-09-04 22:23:59</th>\n",
       "      <td>09/04/2015 10:23:59 PM</td>\n",
       "      <td>09/04/2015 10:49:19 PM</td>\n",
       "      <td>New York City Police Department</td>\n",
       "      <td>Noise - Street/Sidewalk</td>\n",
       "      <td>Loud Music/Party</td>\n",
       "      <td>MANHATTAN</td>\n",
       "      <td>2015-09-04 22:49:19</td>\n",
       "    </tr>\n",
       "    <tr>\n",
       "      <th>2015-09-04 23:16:12</th>\n",
       "      <td>09/04/2015 11:16:12 PM</td>\n",
       "      <td>09/05/2015 02:49:33 AM</td>\n",
       "      <td>New York City Police Department</td>\n",
       "      <td>Noise - Street/Sidewalk</td>\n",
       "      <td>Loud Music/Party</td>\n",
       "      <td>BROOKLYN</td>\n",
       "      <td>2015-09-05 02:49:33</td>\n",
       "    </tr>\n",
       "    <tr>\n",
       "      <th>2015-09-04 16:49:55</th>\n",
       "      <td>09/04/2015 04:49:55 PM</td>\n",
       "      <td>09/04/2015 09:20:38 PM</td>\n",
       "      <td>New York City Police Department</td>\n",
       "      <td>Noise - Commercial</td>\n",
       "      <td>Loud Talking</td>\n",
       "      <td>BROOKLYN</td>\n",
       "      <td>2015-09-04 21:20:38</td>\n",
       "    </tr>\n",
       "    <tr>\n",
       "      <th>2015-09-04 14:39:46</th>\n",
       "      <td>09/04/2015 02:39:46 PM</td>\n",
       "      <td>09/04/2015 02:52:11 PM</td>\n",
       "      <td>New York City Police Department</td>\n",
       "      <td>Illegal Parking</td>\n",
       "      <td>Posted Parking Sign Violation</td>\n",
       "      <td>QUEENS</td>\n",
       "      <td>2015-09-04 14:52:11</td>\n",
       "    </tr>\n",
       "    <tr>\n",
       "      <th>2015-09-04 20:21:22</th>\n",
       "      <td>09/04/2015 08:21:22 PM</td>\n",
       "      <td>09/04/2015 11:41:18 PM</td>\n",
       "      <td>New York City Police Department</td>\n",
       "      <td>Traffic</td>\n",
       "      <td>Congestion/Gridlock</td>\n",
       "      <td>BROOKLYN</td>\n",
       "      <td>2015-09-04 23:41:18</td>\n",
       "    </tr>\n",
       "    <tr>\n",
       "      <th>2015-09-04 23:34:23</th>\n",
       "      <td>09/04/2015 11:34:23 PM</td>\n",
       "      <td>09/05/2015 12:29:52 AM</td>\n",
       "      <td>New York City Police Department</td>\n",
       "      <td>Noise - Street/Sidewalk</td>\n",
       "      <td>Loud Music/Party</td>\n",
       "      <td>MANHATTAN</td>\n",
       "      <td>2015-09-05 00:29:52</td>\n",
       "    </tr>\n",
       "    <tr>\n",
       "      <th>2015-09-04 21:55:19</th>\n",
       "      <td>09/04/2015 09:55:19 PM</td>\n",
       "      <td>09/04/2015 11:26:51 PM</td>\n",
       "      <td>New York City Police Department</td>\n",
       "      <td>Noise - Street/Sidewalk</td>\n",
       "      <td>Loud Music/Party</td>\n",
       "      <td>MANHATTAN</td>\n",
       "      <td>2015-09-04 23:26:51</td>\n",
       "    </tr>\n",
       "    <tr>\n",
       "      <th>2015-09-04 23:44:07</th>\n",
       "      <td>09/04/2015 11:44:07 PM</td>\n",
       "      <td>09/05/2015 12:07:18 AM</td>\n",
       "      <td>New York City Police Department</td>\n",
       "      <td>Noise - Street/Sidewalk</td>\n",
       "      <td>Loud Music/Party</td>\n",
       "      <td>BROOKLYN</td>\n",
       "      <td>2015-09-05 00:07:18</td>\n",
       "    </tr>\n",
       "    <tr>\n",
       "      <th>2015-09-04 08:12:10</th>\n",
       "      <td>09/04/2015 08:12:10 AM</td>\n",
       "      <td>09/04/2015 03:34:40 PM</td>\n",
       "      <td>New York City Police Department</td>\n",
       "      <td>Noise - Street/Sidewalk</td>\n",
       "      <td>Loud Music/Party</td>\n",
       "      <td>BROOKLYN</td>\n",
       "      <td>2015-09-04 15:34:40</td>\n",
       "    </tr>\n",
       "    <tr>\n",
       "      <th>2015-09-04 23:14:40</th>\n",
       "      <td>09/04/2015 11:14:40 PM</td>\n",
       "      <td>09/05/2015 02:58:23 AM</td>\n",
       "      <td>New York City Police Department</td>\n",
       "      <td>Noise - Park</td>\n",
       "      <td>Loud Music/Party</td>\n",
       "      <td>BROOKLYN</td>\n",
       "      <td>2015-09-05 02:58:23</td>\n",
       "    </tr>\n",
       "    <tr>\n",
       "      <th>2015-09-04 20:17:20</th>\n",
       "      <td>09/04/2015 08:17:20 PM</td>\n",
       "      <td>09/05/2015 01:48:21 AM</td>\n",
       "      <td>New York City Police Department</td>\n",
       "      <td>Noise - Street/Sidewalk</td>\n",
       "      <td>Loud Talking</td>\n",
       "      <td>MANHATTAN</td>\n",
       "      <td>2015-09-05 01:48:21</td>\n",
       "    </tr>\n",
       "    <tr>\n",
       "      <th>2015-09-04 22:54:59</th>\n",
       "      <td>09/04/2015 10:54:59 PM</td>\n",
       "      <td>09/04/2015 11:32:15 PM</td>\n",
       "      <td>New York City Police Department</td>\n",
       "      <td>Noise - Street/Sidewalk</td>\n",
       "      <td>Loud Talking</td>\n",
       "      <td>BROOKLYN</td>\n",
       "      <td>2015-09-04 23:32:15</td>\n",
       "    </tr>\n",
       "    <tr>\n",
       "      <th>2015-09-04 15:45:14</th>\n",
       "      <td>09/04/2015 03:45:14 PM</td>\n",
       "      <td>09/04/2015 04:50:16 PM</td>\n",
       "      <td>New York City Police Department</td>\n",
       "      <td>Noise - House of Worship</td>\n",
       "      <td>Banging/Pounding</td>\n",
       "      <td>QUEENS</td>\n",
       "      <td>2015-09-04 16:50:16</td>\n",
       "    </tr>\n",
       "    <tr>\n",
       "      <th>2015-09-04 23:48:20</th>\n",
       "      <td>09/04/2015 11:48:20 PM</td>\n",
       "      <td>09/05/2015 03:12:44 AM</td>\n",
       "      <td>New York City Police Department</td>\n",
       "      <td>Noise - Street/Sidewalk</td>\n",
       "      <td>Loud Music/Party</td>\n",
       "      <td>BRONX</td>\n",
       "      <td>2015-09-05 03:12:44</td>\n",
       "    </tr>\n",
       "    <tr>\n",
       "      <th>2015-09-05 01:53:40</th>\n",
       "      <td>09/05/2015 01:53:40 AM</td>\n",
       "      <td>09/05/2015 02:50:37 AM</td>\n",
       "      <td>New York City Police Department</td>\n",
       "      <td>Noise - Residential</td>\n",
       "      <td>Loud Music/Party</td>\n",
       "      <td>MANHATTAN</td>\n",
       "      <td>2015-09-05 02:50:37</td>\n",
       "    </tr>\n",
       "    <tr>\n",
       "      <th>2015-09-04 23:34:47</th>\n",
       "      <td>09/04/2015 11:34:47 PM</td>\n",
       "      <td>09/05/2015 01:45:56 AM</td>\n",
       "      <td>New York City Police Department</td>\n",
       "      <td>Noise - Residential</td>\n",
       "      <td>Loud Music/Party</td>\n",
       "      <td>MANHATTAN</td>\n",
       "      <td>2015-09-05 01:45:56</td>\n",
       "    </tr>\n",
       "    <tr>\n",
       "      <th>2015-09-04 23:37:52</th>\n",
       "      <td>09/04/2015 11:37:52 PM</td>\n",
       "      <td>09/05/2015 01:03:04 AM</td>\n",
       "      <td>New York City Police Department</td>\n",
       "      <td>Noise - Residential</td>\n",
       "      <td>Loud Music/Party</td>\n",
       "      <td>QUEENS</td>\n",
       "      <td>2015-09-05 01:03:04</td>\n",
       "    </tr>\n",
       "    <tr>\n",
       "      <th>2015-09-04 23:01:37</th>\n",
       "      <td>09/04/2015 11:01:37 PM</td>\n",
       "      <td>09/05/2015 02:06:56 AM</td>\n",
       "      <td>New York City Police Department</td>\n",
       "      <td>Noise - Vehicle</td>\n",
       "      <td>Car/Truck Music</td>\n",
       "      <td>BRONX</td>\n",
       "      <td>2015-09-05 02:06:56</td>\n",
       "    </tr>\n",
       "    <tr>\n",
       "      <th>...</th>\n",
       "      <td>...</td>\n",
       "      <td>...</td>\n",
       "      <td>...</td>\n",
       "      <td>...</td>\n",
       "      <td>...</td>\n",
       "      <td>...</td>\n",
       "      <td>...</td>\n",
       "    </tr>\n",
       "    <tr>\n",
       "      <th>2016-08-01 10:54:00</th>\n",
       "      <td>08/01/2016 10:54:00 AM</td>\n",
       "      <td>07/29/2016 10:54:00 AM</td>\n",
       "      <td>Department of Transportation</td>\n",
       "      <td>Street Light Condition</td>\n",
       "      <td>Street Light Out</td>\n",
       "      <td>QUEENS</td>\n",
       "      <td>2016-07-29 10:54:00</td>\n",
       "    </tr>\n",
       "    <tr>\n",
       "      <th>2016-08-01 02:29:00</th>\n",
       "      <td>08/01/2016 02:29:00 AM</td>\n",
       "      <td>08/01/2016 04:40:00 AM</td>\n",
       "      <td>Department of Transportation</td>\n",
       "      <td>Traffic Signal Condition</td>\n",
       "      <td>Controller</td>\n",
       "      <td>QUEENS</td>\n",
       "      <td>2016-08-01 04:40:00</td>\n",
       "    </tr>\n",
       "    <tr>\n",
       "      <th>2016-08-01 22:21:00</th>\n",
       "      <td>08/01/2016 10:21:00 PM</td>\n",
       "      <td>08/04/2016 09:52:00 AM</td>\n",
       "      <td>Department of Transportation</td>\n",
       "      <td>Street Light Condition</td>\n",
       "      <td>Street Light Out</td>\n",
       "      <td>QUEENS</td>\n",
       "      <td>2016-08-04 09:52:00</td>\n",
       "    </tr>\n",
       "    <tr>\n",
       "      <th>2016-07-28 11:31:00</th>\n",
       "      <td>07/28/2016 11:31:00 AM</td>\n",
       "      <td>07/28/2016 11:31:00 AM</td>\n",
       "      <td>Department of Transportation</td>\n",
       "      <td>Street Light Condition</td>\n",
       "      <td>Street Light Out</td>\n",
       "      <td>QUEENS</td>\n",
       "      <td>2016-07-28 11:31:00</td>\n",
       "    </tr>\n",
       "    <tr>\n",
       "      <th>2016-08-01 11:19:00</th>\n",
       "      <td>08/01/2016 11:19:00 AM</td>\n",
       "      <td>08/01/2016 01:12:00 PM</td>\n",
       "      <td>Department of Transportation</td>\n",
       "      <td>Traffic Signal Condition</td>\n",
       "      <td>Controller</td>\n",
       "      <td>BRONX</td>\n",
       "      <td>2016-08-01 13:12:00</td>\n",
       "    </tr>\n",
       "    <tr>\n",
       "      <th>2016-08-01 14:06:00</th>\n",
       "      <td>08/01/2016 02:06:00 PM</td>\n",
       "      <td>08/02/2016 03:30:00 AM</td>\n",
       "      <td>Department of Transportation</td>\n",
       "      <td>Traffic Signal Condition</td>\n",
       "      <td>Base Door</td>\n",
       "      <td>QUEENS</td>\n",
       "      <td>2016-08-02 03:30:00</td>\n",
       "    </tr>\n",
       "    <tr>\n",
       "      <th>2016-08-01 14:44:00</th>\n",
       "      <td>08/01/2016 02:44:00 PM</td>\n",
       "      <td>08/02/2016 11:40:00 AM</td>\n",
       "      <td>Department of Transportation</td>\n",
       "      <td>Traffic Signal Condition</td>\n",
       "      <td>LED Pedestrian Unit</td>\n",
       "      <td>QUEENS</td>\n",
       "      <td>2016-08-02 11:40:00</td>\n",
       "    </tr>\n",
       "    <tr>\n",
       "      <th>2016-08-01 11:17:00</th>\n",
       "      <td>08/01/2016 11:17:00 AM</td>\n",
       "      <td>08/01/2016 05:19:00 PM</td>\n",
       "      <td>Department of Transportation</td>\n",
       "      <td>Street Light Condition</td>\n",
       "      <td>Street Light Out</td>\n",
       "      <td>QUEENS</td>\n",
       "      <td>2016-08-01 17:19:00</td>\n",
       "    </tr>\n",
       "    <tr>\n",
       "      <th>2016-08-01 23:43:00</th>\n",
       "      <td>08/01/2016 11:43:00 PM</td>\n",
       "      <td>08/04/2016 09:58:00 AM</td>\n",
       "      <td>Department of Transportation</td>\n",
       "      <td>Street Light Condition</td>\n",
       "      <td>Street Light Dayburning</td>\n",
       "      <td>QUEENS</td>\n",
       "      <td>2016-08-04 09:58:00</td>\n",
       "    </tr>\n",
       "    <tr>\n",
       "      <th>2015-02-23 10:58:44</th>\n",
       "      <td>02/23/2015 10:58:44 AM</td>\n",
       "      <td>02/24/2015 09:00:00 AM</td>\n",
       "      <td>Department of Transportation</td>\n",
       "      <td>Street Condition</td>\n",
       "      <td>Pothole</td>\n",
       "      <td>BROOKLYN</td>\n",
       "      <td>2015-02-24 09:00:00</td>\n",
       "    </tr>\n",
       "    <tr>\n",
       "      <th>2016-08-01 11:33:00</th>\n",
       "      <td>08/01/2016 11:33:00 AM</td>\n",
       "      <td>08/01/2016 05:48:00 PM</td>\n",
       "      <td>Department of Transportation</td>\n",
       "      <td>Street Light Condition</td>\n",
       "      <td>Lamppost Base Door/Cover Damaged</td>\n",
       "      <td>QUEENS</td>\n",
       "      <td>2016-08-01 17:48:00</td>\n",
       "    </tr>\n",
       "    <tr>\n",
       "      <th>2015-02-13 18:05:30</th>\n",
       "      <td>02/13/2015 06:05:30 PM</td>\n",
       "      <td>02/16/2015 11:00:00 AM</td>\n",
       "      <td>Department of Transportation</td>\n",
       "      <td>Street Condition</td>\n",
       "      <td>Pothole</td>\n",
       "      <td>BROOKLYN</td>\n",
       "      <td>2015-02-16 11:00:00</td>\n",
       "    </tr>\n",
       "    <tr>\n",
       "      <th>2015-02-14 23:01:49</th>\n",
       "      <td>02/14/2015 11:01:49 PM</td>\n",
       "      <td>02/19/2015 10:20:00 AM</td>\n",
       "      <td>Department of Transportation</td>\n",
       "      <td>Street Condition</td>\n",
       "      <td>Pothole</td>\n",
       "      <td>BROOKLYN</td>\n",
       "      <td>2015-02-19 10:20:00</td>\n",
       "    </tr>\n",
       "    <tr>\n",
       "      <th>2015-02-12 20:24:01</th>\n",
       "      <td>02/12/2015 08:24:01 PM</td>\n",
       "      <td>02/14/2015 03:25:00 AM</td>\n",
       "      <td>Department of Transportation</td>\n",
       "      <td>Street Condition</td>\n",
       "      <td>Pothole</td>\n",
       "      <td>MANHATTAN</td>\n",
       "      <td>2015-02-14 03:25:00</td>\n",
       "    </tr>\n",
       "    <tr>\n",
       "      <th>2016-07-28 11:52:00</th>\n",
       "      <td>07/28/2016 11:52:00 AM</td>\n",
       "      <td>07/28/2016 11:52:00 AM</td>\n",
       "      <td>Department of Transportation</td>\n",
       "      <td>Street Light Condition</td>\n",
       "      <td>Street Light Out</td>\n",
       "      <td>BROOKLYN</td>\n",
       "      <td>2016-07-28 11:52:00</td>\n",
       "    </tr>\n",
       "    <tr>\n",
       "      <th>2016-07-28 21:50:00</th>\n",
       "      <td>07/28/2016 09:50:00 PM</td>\n",
       "      <td>07/30/2016 12:02:00 AM</td>\n",
       "      <td>Department of Transportation</td>\n",
       "      <td>Street Light Condition</td>\n",
       "      <td>Street Light Out</td>\n",
       "      <td>STATEN ISLAND</td>\n",
       "      <td>2016-07-30 00:02:00</td>\n",
       "    </tr>\n",
       "    <tr>\n",
       "      <th>2016-07-28 15:03:00</th>\n",
       "      <td>07/28/2016 03:03:00 PM</td>\n",
       "      <td>07/29/2016 12:49:00 PM</td>\n",
       "      <td>Department of Transportation</td>\n",
       "      <td>Street Light Condition</td>\n",
       "      <td>Street Light Out</td>\n",
       "      <td>STATEN ISLAND</td>\n",
       "      <td>2016-07-29 12:49:00</td>\n",
       "    </tr>\n",
       "    <tr>\n",
       "      <th>2015-02-17 02:31:00</th>\n",
       "      <td>02/17/2015 02:31:00 AM</td>\n",
       "      <td>02/24/2015 11:20:00 PM</td>\n",
       "      <td>Department of Transportation</td>\n",
       "      <td>Street Light Condition</td>\n",
       "      <td>Street Light Out</td>\n",
       "      <td>MANHATTAN</td>\n",
       "      <td>2015-02-24 23:20:00</td>\n",
       "    </tr>\n",
       "    <tr>\n",
       "      <th>2016-07-28 12:10:00</th>\n",
       "      <td>07/28/2016 12:10:00 PM</td>\n",
       "      <td>07/28/2016 05:50:00 PM</td>\n",
       "      <td>Department of Transportation</td>\n",
       "      <td>Traffic Signal Condition</td>\n",
       "      <td>LED Lense</td>\n",
       "      <td>BROOKLYN</td>\n",
       "      <td>2016-07-28 17:50:00</td>\n",
       "    </tr>\n",
       "    <tr>\n",
       "      <th>2016-08-02 11:00:00</th>\n",
       "      <td>08/02/2016 11:00:00 AM</td>\n",
       "      <td>08/02/2016 11:00:00 AM</td>\n",
       "      <td>Department of Transportation</td>\n",
       "      <td>Street Light Condition</td>\n",
       "      <td>Street Light Out</td>\n",
       "      <td>QUEENS</td>\n",
       "      <td>2016-08-02 11:00:00</td>\n",
       "    </tr>\n",
       "    <tr>\n",
       "      <th>2016-08-02 11:38:00</th>\n",
       "      <td>08/02/2016 11:38:00 AM</td>\n",
       "      <td>08/02/2016 11:38:00 AM</td>\n",
       "      <td>Department of Transportation</td>\n",
       "      <td>Street Light Condition</td>\n",
       "      <td>Street Light Out</td>\n",
       "      <td>BRONX</td>\n",
       "      <td>2016-08-02 11:38:00</td>\n",
       "    </tr>\n",
       "    <tr>\n",
       "      <th>2016-08-02 10:51:00</th>\n",
       "      <td>08/02/2016 10:51:00 AM</td>\n",
       "      <td>08/02/2016 10:51:00 AM</td>\n",
       "      <td>Department of Transportation</td>\n",
       "      <td>Street Light Condition</td>\n",
       "      <td>Street Light Out</td>\n",
       "      <td>BRONX</td>\n",
       "      <td>2016-08-02 10:51:00</td>\n",
       "    </tr>\n",
       "    <tr>\n",
       "      <th>2016-08-02 14:00:00</th>\n",
       "      <td>08/02/2016 02:00:00 PM</td>\n",
       "      <td>08/03/2016 10:53:00 PM</td>\n",
       "      <td>Department of Transportation</td>\n",
       "      <td>Street Light Condition</td>\n",
       "      <td>Street Light Out</td>\n",
       "      <td>BRONX</td>\n",
       "      <td>2016-08-03 22:53:00</td>\n",
       "    </tr>\n",
       "    <tr>\n",
       "      <th>2016-08-02 18:14:00</th>\n",
       "      <td>08/02/2016 06:14:00 PM</td>\n",
       "      <td>08/04/2016 04:06:00 PM</td>\n",
       "      <td>Department of Transportation</td>\n",
       "      <td>Street Light Condition</td>\n",
       "      <td>Street Light Out</td>\n",
       "      <td>STATEN ISLAND</td>\n",
       "      <td>2016-08-04 16:06:00</td>\n",
       "    </tr>\n",
       "    <tr>\n",
       "      <th>2016-08-02 07:29:00</th>\n",
       "      <td>08/02/2016 07:29:00 AM</td>\n",
       "      <td>08/03/2016 11:06:00 AM</td>\n",
       "      <td>Department of Transportation</td>\n",
       "      <td>Street Light Condition</td>\n",
       "      <td>Street Light Out</td>\n",
       "      <td>QUEENS</td>\n",
       "      <td>2016-08-03 11:06:00</td>\n",
       "    </tr>\n",
       "    <tr>\n",
       "      <th>2016-08-02 22:10:00</th>\n",
       "      <td>08/02/2016 10:10:00 PM</td>\n",
       "      <td>08/05/2016 10:20:00 AM</td>\n",
       "      <td>Department of Transportation</td>\n",
       "      <td>Street Light Condition</td>\n",
       "      <td>Street Light Out</td>\n",
       "      <td>BRONX</td>\n",
       "      <td>2016-08-05 10:20:00</td>\n",
       "    </tr>\n",
       "    <tr>\n",
       "      <th>2016-08-02 10:49:00</th>\n",
       "      <td>08/02/2016 10:49:00 AM</td>\n",
       "      <td>08/09/2016 11:15:00 PM</td>\n",
       "      <td>Department of Transportation</td>\n",
       "      <td>Street Light Condition</td>\n",
       "      <td>Street Light Out</td>\n",
       "      <td>STATEN ISLAND</td>\n",
       "      <td>2016-08-09 23:15:00</td>\n",
       "    </tr>\n",
       "    <tr>\n",
       "      <th>2016-07-28 11:00:00</th>\n",
       "      <td>07/28/2016 11:00:00 AM</td>\n",
       "      <td>07/28/2016 11:00:00 AM</td>\n",
       "      <td>Department of Transportation</td>\n",
       "      <td>Street Light Condition</td>\n",
       "      <td>Street Light Out</td>\n",
       "      <td>QUEENS</td>\n",
       "      <td>2016-07-28 11:00:00</td>\n",
       "    </tr>\n",
       "    <tr>\n",
       "      <th>2016-08-02 14:32:00</th>\n",
       "      <td>08/02/2016 02:32:00 PM</td>\n",
       "      <td>08/03/2016 11:50:00 AM</td>\n",
       "      <td>Department of Transportation</td>\n",
       "      <td>Traffic Signal Condition</td>\n",
       "      <td>Veh Signal Lamp</td>\n",
       "      <td>BRONX</td>\n",
       "      <td>2016-08-03 11:50:00</td>\n",
       "    </tr>\n",
       "    <tr>\n",
       "      <th>2015-02-18 19:18:33</th>\n",
       "      <td>02/18/2015 07:18:33 PM</td>\n",
       "      <td>02/19/2015 10:27:00 AM</td>\n",
       "      <td>Department of Transportation</td>\n",
       "      <td>Street Condition</td>\n",
       "      <td>Pothole</td>\n",
       "      <td>QUEENS</td>\n",
       "      <td>2015-02-19 10:27:00</td>\n",
       "    </tr>\n",
       "  </tbody>\n",
       "</table>\n",
       "<p>1000000 rows × 7 columns</p>\n",
       "</div>"
      ],
      "text/plain": [
       "                               Created Date             Closed Date  \\\n",
       "created_at                                                            \n",
       "2015-09-04 22:55:25  09/04/2015 10:55:25 PM  09/05/2015 02:06:54 AM   \n",
       "2015-09-04 13:53:45  09/04/2015 01:53:45 PM  09/04/2015 06:37:24 PM   \n",
       "2015-09-04 21:15:43  09/04/2015 09:15:43 PM  09/04/2015 10:32:01 PM   \n",
       "2015-09-05 01:06:57  09/05/2015 01:06:57 AM  09/05/2015 02:26:43 AM   \n",
       "2015-09-04 07:48:25  09/04/2015 07:48:25 AM  09/04/2015 05:21:18 PM   \n",
       "2015-09-04 11:31:12  09/04/2015 11:31:12 AM  09/04/2015 03:01:54 PM   \n",
       "2015-09-04 07:02:24  09/04/2015 07:02:24 AM  09/04/2015 01:55:53 PM   \n",
       "2015-09-04 12:34:05  09/04/2015 12:34:05 PM  09/04/2015 01:38:47 PM   \n",
       "2015-09-04 19:56:42  09/04/2015 07:56:42 PM  09/04/2015 09:18:31 PM   \n",
       "2015-09-04 21:04:42  09/04/2015 09:04:42 PM  09/05/2015 12:39:53 AM   \n",
       "2015-09-04 20:26:09  09/04/2015 08:26:09 PM  09/05/2015 01:09:44 AM   \n",
       "2015-09-04 11:07:15  09/04/2015 11:07:15 AM  09/04/2015 11:16:33 AM   \n",
       "2015-09-04 22:23:59  09/04/2015 10:23:59 PM  09/04/2015 10:49:19 PM   \n",
       "2015-09-04 23:16:12  09/04/2015 11:16:12 PM  09/05/2015 02:49:33 AM   \n",
       "2015-09-04 16:49:55  09/04/2015 04:49:55 PM  09/04/2015 09:20:38 PM   \n",
       "2015-09-04 14:39:46  09/04/2015 02:39:46 PM  09/04/2015 02:52:11 PM   \n",
       "2015-09-04 20:21:22  09/04/2015 08:21:22 PM  09/04/2015 11:41:18 PM   \n",
       "2015-09-04 23:34:23  09/04/2015 11:34:23 PM  09/05/2015 12:29:52 AM   \n",
       "2015-09-04 21:55:19  09/04/2015 09:55:19 PM  09/04/2015 11:26:51 PM   \n",
       "2015-09-04 23:44:07  09/04/2015 11:44:07 PM  09/05/2015 12:07:18 AM   \n",
       "2015-09-04 08:12:10  09/04/2015 08:12:10 AM  09/04/2015 03:34:40 PM   \n",
       "2015-09-04 23:14:40  09/04/2015 11:14:40 PM  09/05/2015 02:58:23 AM   \n",
       "2015-09-04 20:17:20  09/04/2015 08:17:20 PM  09/05/2015 01:48:21 AM   \n",
       "2015-09-04 22:54:59  09/04/2015 10:54:59 PM  09/04/2015 11:32:15 PM   \n",
       "2015-09-04 15:45:14  09/04/2015 03:45:14 PM  09/04/2015 04:50:16 PM   \n",
       "2015-09-04 23:48:20  09/04/2015 11:48:20 PM  09/05/2015 03:12:44 AM   \n",
       "2015-09-05 01:53:40  09/05/2015 01:53:40 AM  09/05/2015 02:50:37 AM   \n",
       "2015-09-04 23:34:47  09/04/2015 11:34:47 PM  09/05/2015 01:45:56 AM   \n",
       "2015-09-04 23:37:52  09/04/2015 11:37:52 PM  09/05/2015 01:03:04 AM   \n",
       "2015-09-04 23:01:37  09/04/2015 11:01:37 PM  09/05/2015 02:06:56 AM   \n",
       "...                                     ...                     ...   \n",
       "2016-08-01 10:54:00  08/01/2016 10:54:00 AM  07/29/2016 10:54:00 AM   \n",
       "2016-08-01 02:29:00  08/01/2016 02:29:00 AM  08/01/2016 04:40:00 AM   \n",
       "2016-08-01 22:21:00  08/01/2016 10:21:00 PM  08/04/2016 09:52:00 AM   \n",
       "2016-07-28 11:31:00  07/28/2016 11:31:00 AM  07/28/2016 11:31:00 AM   \n",
       "2016-08-01 11:19:00  08/01/2016 11:19:00 AM  08/01/2016 01:12:00 PM   \n",
       "2016-08-01 14:06:00  08/01/2016 02:06:00 PM  08/02/2016 03:30:00 AM   \n",
       "2016-08-01 14:44:00  08/01/2016 02:44:00 PM  08/02/2016 11:40:00 AM   \n",
       "2016-08-01 11:17:00  08/01/2016 11:17:00 AM  08/01/2016 05:19:00 PM   \n",
       "2016-08-01 23:43:00  08/01/2016 11:43:00 PM  08/04/2016 09:58:00 AM   \n",
       "2015-02-23 10:58:44  02/23/2015 10:58:44 AM  02/24/2015 09:00:00 AM   \n",
       "2016-08-01 11:33:00  08/01/2016 11:33:00 AM  08/01/2016 05:48:00 PM   \n",
       "2015-02-13 18:05:30  02/13/2015 06:05:30 PM  02/16/2015 11:00:00 AM   \n",
       "2015-02-14 23:01:49  02/14/2015 11:01:49 PM  02/19/2015 10:20:00 AM   \n",
       "2015-02-12 20:24:01  02/12/2015 08:24:01 PM  02/14/2015 03:25:00 AM   \n",
       "2016-07-28 11:52:00  07/28/2016 11:52:00 AM  07/28/2016 11:52:00 AM   \n",
       "2016-07-28 21:50:00  07/28/2016 09:50:00 PM  07/30/2016 12:02:00 AM   \n",
       "2016-07-28 15:03:00  07/28/2016 03:03:00 PM  07/29/2016 12:49:00 PM   \n",
       "2015-02-17 02:31:00  02/17/2015 02:31:00 AM  02/24/2015 11:20:00 PM   \n",
       "2016-07-28 12:10:00  07/28/2016 12:10:00 PM  07/28/2016 05:50:00 PM   \n",
       "2016-08-02 11:00:00  08/02/2016 11:00:00 AM  08/02/2016 11:00:00 AM   \n",
       "2016-08-02 11:38:00  08/02/2016 11:38:00 AM  08/02/2016 11:38:00 AM   \n",
       "2016-08-02 10:51:00  08/02/2016 10:51:00 AM  08/02/2016 10:51:00 AM   \n",
       "2016-08-02 14:00:00  08/02/2016 02:00:00 PM  08/03/2016 10:53:00 PM   \n",
       "2016-08-02 18:14:00  08/02/2016 06:14:00 PM  08/04/2016 04:06:00 PM   \n",
       "2016-08-02 07:29:00  08/02/2016 07:29:00 AM  08/03/2016 11:06:00 AM   \n",
       "2016-08-02 22:10:00  08/02/2016 10:10:00 PM  08/05/2016 10:20:00 AM   \n",
       "2016-08-02 10:49:00  08/02/2016 10:49:00 AM  08/09/2016 11:15:00 PM   \n",
       "2016-07-28 11:00:00  07/28/2016 11:00:00 AM  07/28/2016 11:00:00 AM   \n",
       "2016-08-02 14:32:00  08/02/2016 02:32:00 PM  08/03/2016 11:50:00 AM   \n",
       "2015-02-18 19:18:33  02/18/2015 07:18:33 PM  02/19/2015 10:27:00 AM   \n",
       "\n",
       "                                         Agency Name  \\\n",
       "created_at                                             \n",
       "2015-09-04 22:55:25  New York City Police Department   \n",
       "2015-09-04 13:53:45  New York City Police Department   \n",
       "2015-09-04 21:15:43  New York City Police Department   \n",
       "2015-09-05 01:06:57  New York City Police Department   \n",
       "2015-09-04 07:48:25  New York City Police Department   \n",
       "2015-09-04 11:31:12  New York City Police Department   \n",
       "2015-09-04 07:02:24  New York City Police Department   \n",
       "2015-09-04 12:34:05  New York City Police Department   \n",
       "2015-09-04 19:56:42  New York City Police Department   \n",
       "2015-09-04 21:04:42  New York City Police Department   \n",
       "2015-09-04 20:26:09  New York City Police Department   \n",
       "2015-09-04 11:07:15  New York City Police Department   \n",
       "2015-09-04 22:23:59  New York City Police Department   \n",
       "2015-09-04 23:16:12  New York City Police Department   \n",
       "2015-09-04 16:49:55  New York City Police Department   \n",
       "2015-09-04 14:39:46  New York City Police Department   \n",
       "2015-09-04 20:21:22  New York City Police Department   \n",
       "2015-09-04 23:34:23  New York City Police Department   \n",
       "2015-09-04 21:55:19  New York City Police Department   \n",
       "2015-09-04 23:44:07  New York City Police Department   \n",
       "2015-09-04 08:12:10  New York City Police Department   \n",
       "2015-09-04 23:14:40  New York City Police Department   \n",
       "2015-09-04 20:17:20  New York City Police Department   \n",
       "2015-09-04 22:54:59  New York City Police Department   \n",
       "2015-09-04 15:45:14  New York City Police Department   \n",
       "2015-09-04 23:48:20  New York City Police Department   \n",
       "2015-09-05 01:53:40  New York City Police Department   \n",
       "2015-09-04 23:34:47  New York City Police Department   \n",
       "2015-09-04 23:37:52  New York City Police Department   \n",
       "2015-09-04 23:01:37  New York City Police Department   \n",
       "...                                              ...   \n",
       "2016-08-01 10:54:00     Department of Transportation   \n",
       "2016-08-01 02:29:00     Department of Transportation   \n",
       "2016-08-01 22:21:00     Department of Transportation   \n",
       "2016-07-28 11:31:00     Department of Transportation   \n",
       "2016-08-01 11:19:00     Department of Transportation   \n",
       "2016-08-01 14:06:00     Department of Transportation   \n",
       "2016-08-01 14:44:00     Department of Transportation   \n",
       "2016-08-01 11:17:00     Department of Transportation   \n",
       "2016-08-01 23:43:00     Department of Transportation   \n",
       "2015-02-23 10:58:44     Department of Transportation   \n",
       "2016-08-01 11:33:00     Department of Transportation   \n",
       "2015-02-13 18:05:30     Department of Transportation   \n",
       "2015-02-14 23:01:49     Department of Transportation   \n",
       "2015-02-12 20:24:01     Department of Transportation   \n",
       "2016-07-28 11:52:00     Department of Transportation   \n",
       "2016-07-28 21:50:00     Department of Transportation   \n",
       "2016-07-28 15:03:00     Department of Transportation   \n",
       "2015-02-17 02:31:00     Department of Transportation   \n",
       "2016-07-28 12:10:00     Department of Transportation   \n",
       "2016-08-02 11:00:00     Department of Transportation   \n",
       "2016-08-02 11:38:00     Department of Transportation   \n",
       "2016-08-02 10:51:00     Department of Transportation   \n",
       "2016-08-02 14:00:00     Department of Transportation   \n",
       "2016-08-02 18:14:00     Department of Transportation   \n",
       "2016-08-02 07:29:00     Department of Transportation   \n",
       "2016-08-02 22:10:00     Department of Transportation   \n",
       "2016-08-02 10:49:00     Department of Transportation   \n",
       "2016-07-28 11:00:00     Department of Transportation   \n",
       "2016-08-02 14:32:00     Department of Transportation   \n",
       "2015-02-18 19:18:33     Department of Transportation   \n",
       "\n",
       "                               Complaint Type  \\\n",
       "created_at                                      \n",
       "2015-09-04 22:55:25   Noise - Street/Sidewalk   \n",
       "2015-09-04 13:53:45   Noise - Street/Sidewalk   \n",
       "2015-09-04 21:15:43   Noise - Street/Sidewalk   \n",
       "2015-09-05 01:06:57        Noise - Commercial   \n",
       "2015-09-04 07:48:25           Illegal Parking   \n",
       "2015-09-04 11:31:12           Illegal Parking   \n",
       "2015-09-04 07:02:24           Illegal Parking   \n",
       "2015-09-04 12:34:05           Illegal Parking   \n",
       "2015-09-04 19:56:42           Illegal Parking   \n",
       "2015-09-04 21:04:42   Noise - Street/Sidewalk   \n",
       "2015-09-04 20:26:09   Noise - Street/Sidewalk   \n",
       "2015-09-04 11:07:15   Noise - Street/Sidewalk   \n",
       "2015-09-04 22:23:59   Noise - Street/Sidewalk   \n",
       "2015-09-04 23:16:12   Noise - Street/Sidewalk   \n",
       "2015-09-04 16:49:55        Noise - Commercial   \n",
       "2015-09-04 14:39:46           Illegal Parking   \n",
       "2015-09-04 20:21:22                   Traffic   \n",
       "2015-09-04 23:34:23   Noise - Street/Sidewalk   \n",
       "2015-09-04 21:55:19   Noise - Street/Sidewalk   \n",
       "2015-09-04 23:44:07   Noise - Street/Sidewalk   \n",
       "2015-09-04 08:12:10   Noise - Street/Sidewalk   \n",
       "2015-09-04 23:14:40              Noise - Park   \n",
       "2015-09-04 20:17:20   Noise - Street/Sidewalk   \n",
       "2015-09-04 22:54:59   Noise - Street/Sidewalk   \n",
       "2015-09-04 15:45:14  Noise - House of Worship   \n",
       "2015-09-04 23:48:20   Noise - Street/Sidewalk   \n",
       "2015-09-05 01:53:40       Noise - Residential   \n",
       "2015-09-04 23:34:47       Noise - Residential   \n",
       "2015-09-04 23:37:52       Noise - Residential   \n",
       "2015-09-04 23:01:37           Noise - Vehicle   \n",
       "...                                       ...   \n",
       "2016-08-01 10:54:00    Street Light Condition   \n",
       "2016-08-01 02:29:00  Traffic Signal Condition   \n",
       "2016-08-01 22:21:00    Street Light Condition   \n",
       "2016-07-28 11:31:00    Street Light Condition   \n",
       "2016-08-01 11:19:00  Traffic Signal Condition   \n",
       "2016-08-01 14:06:00  Traffic Signal Condition   \n",
       "2016-08-01 14:44:00  Traffic Signal Condition   \n",
       "2016-08-01 11:17:00    Street Light Condition   \n",
       "2016-08-01 23:43:00    Street Light Condition   \n",
       "2015-02-23 10:58:44          Street Condition   \n",
       "2016-08-01 11:33:00    Street Light Condition   \n",
       "2015-02-13 18:05:30          Street Condition   \n",
       "2015-02-14 23:01:49          Street Condition   \n",
       "2015-02-12 20:24:01          Street Condition   \n",
       "2016-07-28 11:52:00    Street Light Condition   \n",
       "2016-07-28 21:50:00    Street Light Condition   \n",
       "2016-07-28 15:03:00    Street Light Condition   \n",
       "2015-02-17 02:31:00    Street Light Condition   \n",
       "2016-07-28 12:10:00  Traffic Signal Condition   \n",
       "2016-08-02 11:00:00    Street Light Condition   \n",
       "2016-08-02 11:38:00    Street Light Condition   \n",
       "2016-08-02 10:51:00    Street Light Condition   \n",
       "2016-08-02 14:00:00    Street Light Condition   \n",
       "2016-08-02 18:14:00    Street Light Condition   \n",
       "2016-08-02 07:29:00    Street Light Condition   \n",
       "2016-08-02 22:10:00    Street Light Condition   \n",
       "2016-08-02 10:49:00    Street Light Condition   \n",
       "2016-07-28 11:00:00    Street Light Condition   \n",
       "2016-08-02 14:32:00  Traffic Signal Condition   \n",
       "2015-02-18 19:18:33          Street Condition   \n",
       "\n",
       "                                           Descriptor        Borough  \\\n",
       "created_at                                                             \n",
       "2015-09-04 22:55:25                  Loud Music/Party          BRONX   \n",
       "2015-09-04 13:53:45                  Loud Music/Party      MANHATTAN   \n",
       "2015-09-04 21:15:43                  Loud Music/Party      MANHATTAN   \n",
       "2015-09-05 01:06:57                  Loud Music/Party       BROOKLYN   \n",
       "2015-09-04 07:48:25      Overnight Commercial Storage       BROOKLYN   \n",
       "2015-09-04 11:31:12      Overnight Commercial Storage       BROOKLYN   \n",
       "2015-09-04 07:02:24     Posted Parking Sign Violation       BROOKLYN   \n",
       "2015-09-04 12:34:05     Posted Parking Sign Violation      MANHATTAN   \n",
       "2015-09-04 19:56:42     Posted Parking Sign Violation  STATEN ISLAND   \n",
       "2015-09-04 21:04:42                  Loud Music/Party          BRONX   \n",
       "2015-09-04 20:26:09                  Loud Music/Party         QUEENS   \n",
       "2015-09-04 11:07:15                  Loud Music/Party      MANHATTAN   \n",
       "2015-09-04 22:23:59                  Loud Music/Party      MANHATTAN   \n",
       "2015-09-04 23:16:12                  Loud Music/Party       BROOKLYN   \n",
       "2015-09-04 16:49:55                      Loud Talking       BROOKLYN   \n",
       "2015-09-04 14:39:46     Posted Parking Sign Violation         QUEENS   \n",
       "2015-09-04 20:21:22               Congestion/Gridlock       BROOKLYN   \n",
       "2015-09-04 23:34:23                  Loud Music/Party      MANHATTAN   \n",
       "2015-09-04 21:55:19                  Loud Music/Party      MANHATTAN   \n",
       "2015-09-04 23:44:07                  Loud Music/Party       BROOKLYN   \n",
       "2015-09-04 08:12:10                  Loud Music/Party       BROOKLYN   \n",
       "2015-09-04 23:14:40                  Loud Music/Party       BROOKLYN   \n",
       "2015-09-04 20:17:20                      Loud Talking      MANHATTAN   \n",
       "2015-09-04 22:54:59                      Loud Talking       BROOKLYN   \n",
       "2015-09-04 15:45:14                  Banging/Pounding         QUEENS   \n",
       "2015-09-04 23:48:20                  Loud Music/Party          BRONX   \n",
       "2015-09-05 01:53:40                  Loud Music/Party      MANHATTAN   \n",
       "2015-09-04 23:34:47                  Loud Music/Party      MANHATTAN   \n",
       "2015-09-04 23:37:52                  Loud Music/Party         QUEENS   \n",
       "2015-09-04 23:01:37                   Car/Truck Music          BRONX   \n",
       "...                                               ...            ...   \n",
       "2016-08-01 10:54:00                  Street Light Out         QUEENS   \n",
       "2016-08-01 02:29:00                        Controller         QUEENS   \n",
       "2016-08-01 22:21:00                  Street Light Out         QUEENS   \n",
       "2016-07-28 11:31:00                  Street Light Out         QUEENS   \n",
       "2016-08-01 11:19:00                        Controller          BRONX   \n",
       "2016-08-01 14:06:00                         Base Door         QUEENS   \n",
       "2016-08-01 14:44:00               LED Pedestrian Unit         QUEENS   \n",
       "2016-08-01 11:17:00                  Street Light Out         QUEENS   \n",
       "2016-08-01 23:43:00           Street Light Dayburning         QUEENS   \n",
       "2015-02-23 10:58:44                           Pothole       BROOKLYN   \n",
       "2016-08-01 11:33:00  Lamppost Base Door/Cover Damaged         QUEENS   \n",
       "2015-02-13 18:05:30                           Pothole       BROOKLYN   \n",
       "2015-02-14 23:01:49                           Pothole       BROOKLYN   \n",
       "2015-02-12 20:24:01                           Pothole      MANHATTAN   \n",
       "2016-07-28 11:52:00                  Street Light Out       BROOKLYN   \n",
       "2016-07-28 21:50:00                  Street Light Out  STATEN ISLAND   \n",
       "2016-07-28 15:03:00                  Street Light Out  STATEN ISLAND   \n",
       "2015-02-17 02:31:00                  Street Light Out      MANHATTAN   \n",
       "2016-07-28 12:10:00                         LED Lense       BROOKLYN   \n",
       "2016-08-02 11:00:00                  Street Light Out         QUEENS   \n",
       "2016-08-02 11:38:00                  Street Light Out          BRONX   \n",
       "2016-08-02 10:51:00                  Street Light Out          BRONX   \n",
       "2016-08-02 14:00:00                  Street Light Out          BRONX   \n",
       "2016-08-02 18:14:00                  Street Light Out  STATEN ISLAND   \n",
       "2016-08-02 07:29:00                  Street Light Out         QUEENS   \n",
       "2016-08-02 22:10:00                  Street Light Out          BRONX   \n",
       "2016-08-02 10:49:00                  Street Light Out  STATEN ISLAND   \n",
       "2016-07-28 11:00:00                  Street Light Out         QUEENS   \n",
       "2016-08-02 14:32:00                   Veh Signal Lamp          BRONX   \n",
       "2015-02-18 19:18:33                           Pothole         QUEENS   \n",
       "\n",
       "                              closed_at  \n",
       "created_at                               \n",
       "2015-09-04 22:55:25 2015-09-05 02:06:54  \n",
       "2015-09-04 13:53:45 2015-09-04 18:37:24  \n",
       "2015-09-04 21:15:43 2015-09-04 22:32:01  \n",
       "2015-09-05 01:06:57 2015-09-05 02:26:43  \n",
       "2015-09-04 07:48:25 2015-09-04 17:21:18  \n",
       "2015-09-04 11:31:12 2015-09-04 15:01:54  \n",
       "2015-09-04 07:02:24 2015-09-04 13:55:53  \n",
       "2015-09-04 12:34:05 2015-09-04 13:38:47  \n",
       "2015-09-04 19:56:42 2015-09-04 21:18:31  \n",
       "2015-09-04 21:04:42 2015-09-05 00:39:53  \n",
       "2015-09-04 20:26:09 2015-09-05 01:09:44  \n",
       "2015-09-04 11:07:15 2015-09-04 11:16:33  \n",
       "2015-09-04 22:23:59 2015-09-04 22:49:19  \n",
       "2015-09-04 23:16:12 2015-09-05 02:49:33  \n",
       "2015-09-04 16:49:55 2015-09-04 21:20:38  \n",
       "2015-09-04 14:39:46 2015-09-04 14:52:11  \n",
       "2015-09-04 20:21:22 2015-09-04 23:41:18  \n",
       "2015-09-04 23:34:23 2015-09-05 00:29:52  \n",
       "2015-09-04 21:55:19 2015-09-04 23:26:51  \n",
       "2015-09-04 23:44:07 2015-09-05 00:07:18  \n",
       "2015-09-04 08:12:10 2015-09-04 15:34:40  \n",
       "2015-09-04 23:14:40 2015-09-05 02:58:23  \n",
       "2015-09-04 20:17:20 2015-09-05 01:48:21  \n",
       "2015-09-04 22:54:59 2015-09-04 23:32:15  \n",
       "2015-09-04 15:45:14 2015-09-04 16:50:16  \n",
       "2015-09-04 23:48:20 2015-09-05 03:12:44  \n",
       "2015-09-05 01:53:40 2015-09-05 02:50:37  \n",
       "2015-09-04 23:34:47 2015-09-05 01:45:56  \n",
       "2015-09-04 23:37:52 2015-09-05 01:03:04  \n",
       "2015-09-04 23:01:37 2015-09-05 02:06:56  \n",
       "...                                 ...  \n",
       "2016-08-01 10:54:00 2016-07-29 10:54:00  \n",
       "2016-08-01 02:29:00 2016-08-01 04:40:00  \n",
       "2016-08-01 22:21:00 2016-08-04 09:52:00  \n",
       "2016-07-28 11:31:00 2016-07-28 11:31:00  \n",
       "2016-08-01 11:19:00 2016-08-01 13:12:00  \n",
       "2016-08-01 14:06:00 2016-08-02 03:30:00  \n",
       "2016-08-01 14:44:00 2016-08-02 11:40:00  \n",
       "2016-08-01 11:17:00 2016-08-01 17:19:00  \n",
       "2016-08-01 23:43:00 2016-08-04 09:58:00  \n",
       "2015-02-23 10:58:44 2015-02-24 09:00:00  \n",
       "2016-08-01 11:33:00 2016-08-01 17:48:00  \n",
       "2015-02-13 18:05:30 2015-02-16 11:00:00  \n",
       "2015-02-14 23:01:49 2015-02-19 10:20:00  \n",
       "2015-02-12 20:24:01 2015-02-14 03:25:00  \n",
       "2016-07-28 11:52:00 2016-07-28 11:52:00  \n",
       "2016-07-28 21:50:00 2016-07-30 00:02:00  \n",
       "2016-07-28 15:03:00 2016-07-29 12:49:00  \n",
       "2015-02-17 02:31:00 2015-02-24 23:20:00  \n",
       "2016-07-28 12:10:00 2016-07-28 17:50:00  \n",
       "2016-08-02 11:00:00 2016-08-02 11:00:00  \n",
       "2016-08-02 11:38:00 2016-08-02 11:38:00  \n",
       "2016-08-02 10:51:00 2016-08-02 10:51:00  \n",
       "2016-08-02 14:00:00 2016-08-03 22:53:00  \n",
       "2016-08-02 18:14:00 2016-08-04 16:06:00  \n",
       "2016-08-02 07:29:00 2016-08-03 11:06:00  \n",
       "2016-08-02 22:10:00 2016-08-05 10:20:00  \n",
       "2016-08-02 10:49:00 2016-08-09 23:15:00  \n",
       "2016-07-28 11:00:00 2016-07-28 11:00:00  \n",
       "2016-08-02 14:32:00 2016-08-03 11:50:00  \n",
       "2015-02-18 19:18:33 2015-02-19 10:27:00  \n",
       "\n",
       "[1000000 rows x 7 columns]"
      ]
     },
     "execution_count": 243,
     "metadata": {},
     "output_type": "execute_result"
    }
   ],
   "source": [
    "df"
   ]
  },
  {
   "cell_type": "markdown",
   "metadata": {},
   "source": [
    "### What time of day do people complain about loud parties?"
   ]
  },
  {
   "cell_type": "code",
   "execution_count": 242,
   "metadata": {},
   "outputs": [
    {
     "data": {
      "text/plain": [
       "23    35930\n",
       "22    30868\n",
       "0     30687\n",
       "1     22084\n",
       "21    20810\n",
       "Name: created_at, dtype: int64"
      ]
     },
     "execution_count": 242,
     "metadata": {},
     "output_type": "execute_result"
    }
   ],
   "source": [
    "df[df['Descriptor'] == 'Loud Music/Party'].index.hour.value_counts().head()"
   ]
  },
  {
   "cell_type": "markdown",
   "metadata": {},
   "source": [
    "## Days of the week"
   ]
  },
  {
   "cell_type": "markdown",
   "metadata": {},
   "source": [
    "### What days of the week do people complain about potholes?"
   ]
  },
  {
   "cell_type": "code",
   "execution_count": 253,
   "metadata": {},
   "outputs": [
    {
     "data": {
      "text/plain": [
       "1    10997\n",
       "2    10294\n",
       "3    10259\n",
       "0     9726\n",
       "4     6923\n",
       "6     6572\n",
       "5     4432\n",
       "Name: created_at, dtype: int64"
      ]
     },
     "execution_count": 253,
     "metadata": {},
     "output_type": "execute_result"
    }
   ],
   "source": [
    "df[df['Descriptor'] == 'Pothole'].index.weekday.value_counts()"
   ]
  },
  {
   "cell_type": "markdown",
   "metadata": {},
   "source": [
    "### What days of the week do people complain about loud parties?"
   ]
  },
  {
   "cell_type": "code",
   "execution_count": 252,
   "metadata": {},
   "outputs": [
    {
     "data": {
      "text/plain": [
       "6    67303\n",
       "5    66153\n",
       "4    32655\n",
       "0    22781\n",
       "3    20564\n",
       "2    18450\n",
       "1    17111\n",
       "Name: created_at, dtype: int64"
      ]
     },
     "execution_count": 252,
     "metadata": {},
     "output_type": "execute_result"
    }
   ],
   "source": [
    "df[df['Descriptor'] == 'Loud Music/Party'].index.weekday.value_counts()"
   ]
  },
  {
   "cell_type": "markdown",
   "metadata": {},
   "source": [
    "### What do you think is the best kind of graph for describing day of the week complaints?"
   ]
  },
  {
   "cell_type": "code",
   "execution_count": 254,
   "metadata": {},
   "outputs": [
    {
     "data": {
      "text/plain": [
       "<matplotlib.axes._subplots.AxesSubplot at 0x2050f3f98>"
      ]
     },
     "execution_count": 254,
     "metadata": {},
     "output_type": "execute_result"
    },
    {
     "data": {
      "image/png": "[encoded data removed]",
      "text/plain": [
       "<matplotlib.figure.Figure at 0x1fe57ce48>"
      ]
     },
     "metadata": {},
     "output_type": "display_data"
    }
   ],
   "source": [
    "df[df['Descriptor'] == 'Loud Music/Party'].index.weekday.value_counts().sort_index().plot(kind='bar')"
   ]
  },
  {
   "cell_type": "markdown",
   "metadata": {},
   "source": [
    "# Some more investigation\n",
    "\n",
    "## Are there more homeless people in the city in the summer or in the winter?"
   ]
  },
  {
   "cell_type": "code",
   "execution_count": 264,
   "metadata": {},
   "outputs": [
    {
     "data": {
      "text/plain": [
       "<matplotlib.axes._subplots.AxesSubplot at 0x19d722c18>"
      ]
     },
     "execution_count": 264,
     "metadata": {},
     "output_type": "execute_result"
    },
    {
     "data": {
      "image/png": "[encoded data removed]",
      "text/plain": [
       "<matplotlib.figure.Figure at 0x267780668>"
      ]
     },
     "metadata": {},
     "output_type": "display_data"
    }
   ],
   "source": [
    "df[df['Complaint Type'] == 'Homeless Encampment'].index.month.value_counts().sort_index().plot()"
   ]
  },
  {
   "cell_type": "markdown",
   "metadata": {},
   "source": [
    "## What holiday(s) are most popular for illegal fireworks?"
   ]
  },
  {
   "cell_type": "code",
   "execution_count": 269,
   "metadata": {},
   "outputs": [
    {
     "data": {
      "text/plain": [
       "<matplotlib.axes._subplots.AxesSubplot at 0x26819ccc0>"
      ]
     },
     "execution_count": 269,
     "metadata": {},
     "output_type": "execute_result"
    },
    {
     "data": {
      "image/png": "[encoded data removed]",
      "text/plain": [
       "<matplotlib.figure.Figure at 0x2682f1be0>"
      ]
     },
     "metadata": {},
     "output_type": "display_data"
    }
   ],
   "source": [
    "df[df['Complaint Type'] == 'Illegal Fireworks'].index.dayofyear.value_counts().sort_index().plot()"
   ]
  },
  {
   "cell_type": "markdown",
   "metadata": {},
   "source": [
    "## Plot all kinds of noise complaints on top of each other"
   ]
  },
  {
   "cell_type": "code",
   "execution_count": 277,
   "metadata": {},
   "outputs": [
    {
     "data": {
      "text/plain": [
       "Noise - Residential         240381\n",
       "Noise - Street/Sidewalk      66769\n",
       "Noise - Commercial           53285\n",
       "Noise - Vehicle              25147\n",
       "Noise - Park                  4543\n",
       "Noise - House of Worship       981\n",
       "Name: Complaint Type, dtype: int64"
      ]
     },
     "execution_count": 277,
     "metadata": {},
     "output_type": "execute_result"
    }
   ],
   "source": [
    "df[df['Complaint Type'].str.contains('Noise')]['Complaint Type'].value_counts()"
   ]
  },
  {
   "cell_type": "code",
   "execution_count": 282,
   "metadata": {},
   "outputs": [
    {
     "data": {
      "text/plain": [
       "<matplotlib.axes._subplots.AxesSubplot at 0x268bddfd0>"
      ]
     },
     "execution_count": 282,
     "metadata": {},
     "output_type": "execute_result"
    },
    {
     "data": {
      "image/png": "[encoded data removed]",
      "text/plain": [
       "<matplotlib.figure.Figure at 0x268c0d8d0>"
      ]
     },
     "metadata": {},
     "output_type": "display_data"
    }
   ],
   "source": [
    "df[df['Complaint Type'].str.contains('Residential')].index.month.value_counts().sort_index().plot()\n",
    "df[df['Complaint Type'].str.contains('Street/Sidewalk')].index.month.value_counts().sort_index().plot()\n",
    "df[df['Complaint Type'].str.contains('Commercial')].index.month.value_counts().sort_index().plot()\n",
    "df[df['Complaint Type'].str.contains('Vehicle')].index.month.value_counts().sort_index().plot()\n",
    "df[df['Complaint Type'].str.contains('Park')].index.month.value_counts().sort_index().plot()\n",
    "df[df['Complaint Type'].str.contains('House of Worship')].index.month.value_counts().sort_index().plot()"
   ]
  },
  {
   "cell_type": "code",
   "execution_count": null,
   "metadata": {
    "collapsed": true
   },
   "outputs": [],
   "source": []
  }
 ],
 "metadata": {
  "kernelspec": {
   "display_name": "Python 3",
   "language": "python",
   "name": "python3"
  },
  "language_info": {
   "codemirror_mode": {
    "name": "ipython",
    "version": 3
   },
   "file_extension": ".py",
   "mimetype": "text/x-python",
   "name": "python",
   "nbconvert_exporter": "python",
   "pygments_lexer": "ipython3",
   "version": "3.6.1"
  }
 },
 "nbformat": 4,
 "nbformat_minor": 2
}
