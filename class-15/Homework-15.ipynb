{
 "cells": [
  {
   "cell_type": "markdown",
   "metadata": {},
   "source": [
    "## 1. Staff_List"
   ]
  },
  {
   "cell_type": "markdown",
   "metadata": {},
   "source": [
    "### a. https://www.muckrock.com/foi/new-york-16/staff-list-38525/#comms\n",
    "### b. A record or list that contains the names and job titles for all employees of the Office of Information Technology Services."
   ]
  },
  {
   "cell_type": "markdown",
   "metadata": {},
   "source": [
    "### c. STEP 1: Tabula"
   ]
  },
  {
   "cell_type": "code",
   "execution_count": 307,
   "metadata": {
    "collapsed": true
   },
   "outputs": [],
   "source": [
    "import pandas as pd\n",
    "%matplotlib inline\n",
    "import numpy as np"
   ]
  },
  {
   "cell_type": "code",
   "execution_count": 504,
   "metadata": {
    "collapsed": true
   },
   "outputs": [],
   "source": [
    "df = pd.read_csv('Staff_List/tabula-FOIL_2017_32_Resp_Doc.csv')"
   ]
  },
  {
   "cell_type": "markdown",
   "metadata": {},
   "source": [
    "### c. STEP 2: Clean Dataset and Analysis"
   ]
  },
  {
   "cell_type": "code",
   "execution_count": 505,
   "metadata": {
    "collapsed": true
   },
   "outputs": [],
   "source": [
    "# \"SHORT_TITLE\" row #3571:3603 are misplaced at \"Employee\" rows #3604-3636, leaving \"SHORT_TITLE\" row #3571:3603 are NaNs.\n",
    "df['SHORT_TITLE'][3571:3604] = df['Employee'][3604:3637]"
   ]
  },
  {
   "cell_type": "code",
   "execution_count": 506,
   "metadata": {
    "collapsed": true
   },
   "outputs": [],
   "source": [
    "df = df.drop(df.index[3604:3637])"
   ]
  },
  {
   "cell_type": "code",
   "execution_count": 507,
   "metadata": {},
   "outputs": [
    {
     "name": "stderr",
     "output_type": "stream",
     "text": [
      "/usr/local/lib/python3.6/site-packages/ipykernel_launcher.py:1: FutureWarning: currently extract(expand=None) means expand=False (return Index/Series/DataFrame) but in a future version of pandas this will be changed to expand=True (return DataFrame)\n",
      "  \"\"\"Entry point for launching an IPython kernel.\n"
     ]
    }
   ],
   "source": [
    "df['Last_Name'] = df['Employee'].str.extract('(\\w*), .*')"
   ]
  },
  {
   "cell_type": "code",
   "execution_count": 508,
   "metadata": {},
   "outputs": [
    {
     "name": "stderr",
     "output_type": "stream",
     "text": [
      "/usr/local/lib/python3.6/site-packages/ipykernel_launcher.py:1: FutureWarning: currently extract(expand=None) means expand=False (return Index/Series/DataFrame) but in a future version of pandas this will be changed to expand=True (return DataFrame)\n",
      "  \"\"\"Entry point for launching an IPython kernel.\n"
     ]
    }
   ],
   "source": [
    "df['First_Name'] = df['Employee'].str.extract('\\w*, (.*)')"
   ]
  },
  {
   "cell_type": "code",
   "execution_count": 522,
   "metadata": {},
   "outputs": [
    {
     "data": {
      "text/html": [
       "<div>\n",
       "<style>\n",
       "    .dataframe thead tr:only-child th {\n",
       "        text-align: right;\n",
       "    }\n",
       "\n",
       "    .dataframe thead th {\n",
       "        text-align: left;\n",
       "    }\n",
       "\n",
       "    .dataframe tbody tr th {\n",
       "        vertical-align: top;\n",
       "    }\n",
       "</style>\n",
       "<table border=\"1\" class=\"dataframe\">\n",
       "  <thead>\n",
       "    <tr style=\"text-align: right;\">\n",
       "      <th></th>\n",
       "      <th>Employee</th>\n",
       "      <th>SHORT_TITLE</th>\n",
       "      <th>Last_Name</th>\n",
       "      <th>First_Name</th>\n",
       "    </tr>\n",
       "  </thead>\n",
       "  <tbody>\n",
       "    <tr>\n",
       "      <th>0</th>\n",
       "      <td>Abate, Arnold M</td>\n",
       "      <td>Info Tech Spec 3 D C</td>\n",
       "      <td>Abate</td>\n",
       "      <td>Arnold M</td>\n",
       "    </tr>\n",
       "    <tr>\n",
       "      <th>1</th>\n",
       "      <td>Abbott, Sharon L</td>\n",
       "      <td>Info Tech Spec 2 Prog</td>\n",
       "      <td>Abbott</td>\n",
       "      <td>Sharon L</td>\n",
       "    </tr>\n",
       "    <tr>\n",
       "      <th>2</th>\n",
       "      <td>Abbott, Thomas J</td>\n",
       "      <td>Mgr Info Tech Svs 1 D</td>\n",
       "      <td>Abbott</td>\n",
       "      <td>Thomas J</td>\n",
       "    </tr>\n",
       "    <tr>\n",
       "      <th>3</th>\n",
       "      <td>Abdella, Mubarak</td>\n",
       "      <td>Info Tech Spec 2 Prog</td>\n",
       "      <td>Abdella</td>\n",
       "      <td>Mubarak</td>\n",
       "    </tr>\n",
       "    <tr>\n",
       "      <th>4</th>\n",
       "      <td>ABRAHAM, RANI A</td>\n",
       "      <td>Info Tech Spec 2</td>\n",
       "      <td>ABRAHAM</td>\n",
       "      <td>RANI A</td>\n",
       "    </tr>\n",
       "  </tbody>\n",
       "</table>\n",
       "</div>"
      ],
      "text/plain": [
       "           Employee            SHORT_TITLE Last_Name First_Name\n",
       "0   Abate, Arnold M   Info Tech Spec 3 D C     Abate   Arnold M\n",
       "1  Abbott, Sharon L  Info Tech Spec 2 Prog    Abbott   Sharon L\n",
       "2  Abbott, Thomas J  Mgr Info Tech Svs 1 D    Abbott   Thomas J\n",
       "3  Abdella, Mubarak  Info Tech Spec 2 Prog   Abdella    Mubarak\n",
       "4   ABRAHAM, RANI A       Info Tech Spec 2   ABRAHAM     RANI A"
      ]
     },
     "execution_count": 522,
     "metadata": {},
     "output_type": "execute_result"
    }
   ],
   "source": [
    "df.head()"
   ]
  },
  {
   "cell_type": "markdown",
   "metadata": {},
   "source": [
    "## 2. Mammoth_Specimen_Golden_Shores"
   ]
  },
  {
   "cell_type": "markdown",
   "metadata": {},
   "source": [
    "### a. https://www.muckrock.com/foi/united-states-of-america-10/golden-shores-mammoth-12225/#comms\n",
    "### b. Documents of a mammoth specimen was excavated in 1988 in the Golden Shores (AKA \"Topock\") area on BLM land.  "
   ]
  },
  {
   "cell_type": "markdown",
   "metadata": {},
   "source": [
    "### c. STEP 1: Extract all text from a pdf by using pdf2txt.py"
   ]
  },
  {
   "cell_type": "code",
   "execution_count": 234,
   "metadata": {},
   "outputs": [
    {
     "name": "stdout",
     "output_type": "stream",
     "text": [
      "INFO:pdfminer.pdfdocument:xref found: pos=b'116'\n",
      "INFO:pdfminer.pdfdocument:read_xref_from: start=116, token=65\n",
      "INFO:pdfminer.pdfdocument:xref stream: objid=(42, 39), fields=1,2,1\n",
      "INFO:pdfminer.pdfdocument:trailer: {'DecodeParms': {'Columns': 4, 'Predictor': 12}, 'Filter': /'FlateDecode', 'ID': [b'M4q\\xc9\\xee\\xb86\\xacI\\n\\xd3\\xf8\\t \\xf5<', b'\\xa1|l\\x0e\\xf2t.D\\xa4\\x12\\xf7fl\\x1ba\\t'], 'Index': [42, 39], 'Info': <PDFObjRef:41>, 'Length': 96, 'Prev': 2822872, 'Root': <PDFObjRef:43>, 'Size': 81, 'Type': /'XRef', 'W': [1, 2, 1]}\n",
      "INFO:pdfminer.pdfdocument:read_xref_from: start=2822872, token=22\n",
      "INFO:pdfminer.pdfdocument:xref stream: objid=(0, 42), fields=1,3,1\n",
      "INFO:pdfminer.pdfdocument:trailer: {'DecodeParms': {'Columns': 5, 'Predictor': 12}, 'Filter': /'FlateDecode', 'ID': [b'M4q\\xc9\\xee\\xb86\\xacI\\n\\xd3\\xf8\\t \\xf5<', b'\\xa1|l\\x0e\\xf2t.D\\xa4\\x12\\xf7fl\\x1ba\\t'], 'Info': <PDFObjRef:41>, 'Length': 118, 'Root': <PDFObjRef:43>, 'Size': 42, 'Type': /'XRef', 'W': [1, 3, 1]}\n",
      "INFO:root:Pages: Kids=[<PDFObjRef:44>, <PDFObjRef:1>, <PDFObjRef:6>]\n",
      "INFO:root:Page: {'Annots': <PDFObjRef:67>, 'Contents': [<PDFObjRef:52>, <PDFObjRef:53>, <PDFObjRef:54>, <PDFObjRef:55>, <PDFObjRef:56>, <PDFObjRef:57>, <PDFObjRef:58>, <PDFObjRef:59>], 'CropBox': [3.84, 3.12, 615.84, 795.12], 'MediaBox': [0.0, 0.0, 619.68, 798.24], 'Parent': <PDFObjRef:40>, 'Resources': {'Font': {'C0_0': <PDFObjRef:74>, 'T1_0': <PDFObjRef:75>, 'T1_1': <PDFObjRef:76>, 'T1_2': <PDFObjRef:77>}, 'ProcSet': [/'PDF', /'Text', /'ImageB'], 'XObject': {'Fm0': <PDFObjRef:62>, 'Fm1': <PDFObjRef:63>, 'Im0': <PDFObjRef:64>}}, 'Rotate': 0, 'Type': /'Page'}\n",
      "INFO:root:Processing page: <PDFPage: Resources={'Font': {'C0_0': <PDFObjRef:74>, 'T1_0': <PDFObjRef:75>, 'T1_1': <PDFObjRef:76>, 'T1_2': <PDFObjRef:77>}, 'ProcSet': [/'PDF', /'Text', /'ImageB'], 'XObject': {'Fm0': <PDFObjRef:62>, 'Fm1': <PDFObjRef:63>, 'Im0': <PDFObjRef:64>}}, MediaBox=[0.0, 0.0, 619.68, 798.24]>\n",
      "INFO:root:render_contents: resources={'Font': {'C0_0': <PDFObjRef:74>, 'T1_0': <PDFObjRef:75>, 'T1_1': <PDFObjRef:76>, 'T1_2': <PDFObjRef:77>}, 'ProcSet': [/'PDF', /'Text', /'ImageB'], 'XObject': {'Fm0': <PDFObjRef:62>, 'Fm1': <PDFObjRef:63>, 'Im0': <PDFObjRef:64>}}, streams=[<PDFObjRef:52>, <PDFObjRef:53>, <PDFObjRef:54>, <PDFObjRef:55>, <PDFObjRef:56>, <PDFObjRef:57>, <PDFObjRef:58>, <PDFObjRef:59>], ctm=(1, 0, 0, 1, -0.0, -0.0)\n",
      "INFO:root:get_font: create: objid=74, spec={'BaseFont': /'HiddenHorzOCR', 'DescendantFonts': [<PDFObjRef:73>], 'Encoding': /'Identity-H', 'Subtype': /'Type0', 'ToUnicode': <PDFObjRef:61>, 'Type': /'Font'}\n",
      "INFO:root:get_font: create: objid=None, spec={'BaseFont': /'HiddenHorzOCR', 'CIDSystemInfo': {'Ordering': b'Identity', 'Registry': b'Adobe', 'Supplement': 0}, 'DW': 1000, 'FontDescriptor': <PDFObjRef:72>, 'Subtype': /'CIDFontType0', 'Type': /'Font', 'Encoding': /'Identity-H', 'ToUnicode': <PDFStream(61): raw=1791, {'Filter': /'FlateDecode', 'Length': 1789}>}\n",
      "INFO:root:get_font: create: objid=75, spec={'BaseFont': /'Times-Roman', 'Encoding': /'WinAnsiEncoding', 'Subtype': /'Type1', 'Type': /'Font'}\n",
      "INFO:root:get_font: create: objid=76, spec={'BaseFont': /'Helvetica', 'Encoding': /'WinAnsiEncoding', 'Subtype': /'Type1', 'Type': /'Font'}\n",
      "INFO:root:get_font: create: objid=77, spec={'BaseFont': /'Helvetica-Oblique', 'Encoding': /'WinAnsiEncoding', 'Subtype': /'Type1', 'Type': /'Font'}\n",
      "INFO:root:Processing xobj: <PDFStream(64): raw=1972031, {'BitsPerComponent': 8, 'ColorSpace': /'DeviceGray', 'Filter': /'FlateDecode', 'Height': 3326, 'Length': 1972029, 'Subtype': /'Image', 'Type': /'XObject', 'Width': 2582}>\n",
      "INFO:root:undefined: <PDFType1Font: basefont='Times-Roman'>, 173\n",
      "INFO:root:Processing xobj: <PDFStream(62): raw=347, {'BBox': [80.51, 456.625, 549.938, 495.805], 'Filter': [/'FlateDecode'], 'FormType': 1, 'Length': 345, 'Matrix': [1.0, 0.0, 0.0, 1.0, -80.51, -456.625], 'Resources': {'Font': {'Helv': <PDFObjRef:79>}, 'ProcSet': [/'PDF', /'Text']}, 'Subtype': /'Form', 'Type': /'XObject'}>\n",
      "INFO:root:render_contents: resources={'Font': {'Helv': <PDFObjRef:79>}, 'ProcSet': [/'PDF', /'Text']}, streams=[<PDFStream(62): raw=347, {'BBox': [80.51, 456.625, 549.938, 495.805], 'Filter': [/'FlateDecode'], 'FormType': 1, 'Length': 345, 'Matrix': [1.0, 0.0, 0.0, 1.0, -80.51, -456.625], 'Resources': {'Font': {'Helv': <PDFObjRef:79>}, 'ProcSet': [/'PDF', /'Text']}, 'Subtype': /'Form', 'Type': /'XObject'}>], ctm=(1.0, 0.0, 0.0, 1.0, -0.9999901999999992, -1.0)\n",
      "INFO:root:get_font: create: objid=79, spec={'BaseFont': /'Helvetica', 'Encoding': <PDFObjRef:78>, 'Name': /'Helv', 'Subtype': /'Type1', 'Type': /'Font'}\n",
      "INFO:root:Processing xobj: <PDFStream(63): raw=190, {'BBox': [80.4, 139.345, 549.816, 178.535], 'Filter': [/'FlateDecode'], 'FormType': 1, 'Length': 188, 'Matrix': [1.0, 0.0, 0.0, 1.0, -80.4, -139.345], 'Resources': {'Font': {'Helv': <PDFObjRef:79>}, 'ProcSet': [/'PDF', /'Text']}, 'Subtype': /'Form', 'Type': /'XObject'}>\n",
      "INFO:root:render_contents: resources={'Font': {'Helv': <PDFObjRef:79>}, 'ProcSet': [/'PDF', /'Text']}, streams=[<PDFStream(63): raw=190, {'BBox': [80.4, 139.345, 549.816, 178.535], 'Filter': [/'FlateDecode'], 'FormType': 1, 'Length': 188, 'Matrix': [1.0, 0.0, 0.0, 1.0, -80.4, -139.345], 'Resources': {'Font': {'Helv': <PDFObjRef:79>}, 'ProcSet': [/'PDF', /'Text']}, 'Subtype': /'Form', 'Type': /'XObject'}>], ctm=(1.0, 0.0, 0.0, 1.0, -0.9999908000000062, -0.999998799999986)\n",
      "INFO:root:Page: {'Annots': <PDFObjRef:23>, 'Contents': <PDFObjRef:2>, 'CropBox': [1.44, 1.44, 613.44, 793.44], 'MediaBox': [0.0, 0.0, 614.88, 794.64], 'Parent': <PDFObjRef:40>, 'Resources': {'Font': {'C0_0': <PDFObjRef:33>, 'T1_0': <PDFObjRef:32>, 'T1_1': <PDFObjRef:31>, 'T1_2': <PDFObjRef:30>, 'T1_3': <PDFObjRef:29>}, 'ProcSet': [/'PDF', /'Text', /'ImageB'], 'XObject': {'Im0': <PDFObjRef:4>}}, 'Rotate': 0, 'Type': /'Page'}\n",
      "INFO:root:Processing page: <PDFPage: Resources={'Font': {'C0_0': <PDFObjRef:33>, 'T1_0': <PDFObjRef:32>, 'T1_1': <PDFObjRef:31>, 'T1_2': <PDFObjRef:30>, 'T1_3': <PDFObjRef:29>}, 'ProcSet': [/'PDF', /'Text', /'ImageB'], 'XObject': {'Im0': <PDFObjRef:4>}}, MediaBox=[0.0, 0.0, 614.88, 794.64]>\n",
      "INFO:root:render_contents: resources={'Font': {'C0_0': <PDFObjRef:33>, 'T1_0': <PDFObjRef:32>, 'T1_1': <PDFObjRef:31>, 'T1_2': <PDFObjRef:30>, 'T1_3': <PDFObjRef:29>}, 'ProcSet': [/'PDF', /'Text', /'ImageB'], 'XObject': {'Im0': <PDFObjRef:4>}}, streams=[<PDFStream(2): raw=9978, {'Filter': /'FlateDecode', 'Length': 9976}>], ctm=(1, 0, 0, 1, -0.0, -0.0)\n",
      "INFO:root:get_font: create: objid=33, spec={'BaseFont': /'HiddenHorzOCR', 'DescendantFonts': [<PDFObjRef:73>], 'Encoding': /'Identity-H', 'Subtype': /'Type0', 'ToUnicode': <PDFObjRef:3>, 'Type': /'Font'}\n",
      "INFO:root:get_font: create: objid=None, spec={'BaseFont': /'HiddenHorzOCR', 'CIDSystemInfo': {'Ordering': b'Identity', 'Registry': b'Adobe', 'Supplement': 0}, 'DW': 1000, 'FontDescriptor': <PDFObjRef:72>, 'Subtype': /'CIDFontType0', 'Type': /'Font', 'Encoding': /'Identity-H', 'ToUnicode': <PDFStream(3): raw=1791, {'Filter': /'FlateDecode', 'Length': 1789}>}\n",
      "INFO:root:get_font: create: objid=32, spec={'BaseFont': /'Helvetica', 'Encoding': /'WinAnsiEncoding', 'Subtype': /'Type1', 'Type': /'Font'}\n",
      "INFO:root:get_font: create: objid=31, spec={'BaseFont': /'Times-Roman', 'Encoding': /'WinAnsiEncoding', 'Subtype': /'Type1', 'Type': /'Font'}\n",
      "INFO:root:get_font: create: objid=30, spec={'BaseFont': /'Times-Italic', 'Encoding': /'WinAnsiEncoding', 'Subtype': /'Type1', 'Type': /'Font'}\n",
      "INFO:root:get_font: create: objid=29, spec={'BaseFont': /'Helvetica-Oblique', 'Encoding': /'WinAnsiEncoding', 'Subtype': /'Type1', 'Type': /'Font'}\n",
      "INFO:root:Processing xobj: <PDFStream(4): raw=705577, {'BitsPerComponent': 8, 'ColorSpace': /'DeviceGray', 'Filter': /'DCTDecode', 'Height': 3311, 'Length': 705575, 'Subtype': /'Image', 'Type': /'XObject', 'Width': 2562}>\n",
      "INFO:root:Page: {'Annots': <PDFObjRef:26>, 'Contents': <PDFObjRef:7>, 'CropBox': [0.0, 0.0, 612.0, 792.0], 'MediaBox': [0.0, 0.0, 612.0, 792.0], 'Parent': <PDFObjRef:40>, 'Resources': {'Font': {'C0_0': <PDFObjRef:38>, 'T1_0': <PDFObjRef:37>, 'T1_1': <PDFObjRef:36>, 'T1_2': <PDFObjRef:35>, 'T1_3': <PDFObjRef:34>}, 'ProcSet': [/'PDF', /'Text', /'ImageB'], 'XObject': {'Im0': <PDFObjRef:9>}}, 'Rotate': 0, 'Type': /'Page'}\n",
      "INFO:root:Processing page: <PDFPage: Resources={'Font': {'C0_0': <PDFObjRef:38>, 'T1_0': <PDFObjRef:37>, 'T1_1': <PDFObjRef:36>, 'T1_2': <PDFObjRef:35>, 'T1_3': <PDFObjRef:34>}, 'ProcSet': [/'PDF', /'Text', /'ImageB'], 'XObject': {'Im0': <PDFObjRef:9>}}, MediaBox=[0.0, 0.0, 612.0, 792.0]>\n",
      "INFO:root:render_contents: resources={'Font': {'C0_0': <PDFObjRef:38>, 'T1_0': <PDFObjRef:37>, 'T1_1': <PDFObjRef:36>, 'T1_2': <PDFObjRef:35>, 'T1_3': <PDFObjRef:34>}, 'ProcSet': [/'PDF', /'Text', /'ImageB'], 'XObject': {'Im0': <PDFObjRef:9>}}, streams=[<PDFStream(7): raw=788, {'Filter': /'FlateDecode', 'Length': 786}>], ctm=(1, 0, 0, 1, -0.0, -0.0)\n",
      "INFO:root:get_font: create: objid=38, spec={'BaseFont': /'HiddenHorzOCR', 'DescendantFonts': [<PDFObjRef:73>], 'Encoding': /'Identity-H', 'Subtype': /'Type0', 'ToUnicode': <PDFObjRef:8>, 'Type': /'Font'}\n",
      "INFO:root:get_font: create: objid=None, spec={'BaseFont': /'HiddenHorzOCR', 'CIDSystemInfo': {'Ordering': b'Identity', 'Registry': b'Adobe', 'Supplement': 0}, 'DW': 1000, 'FontDescriptor': <PDFObjRef:72>, 'Subtype': /'CIDFontType0', 'Type': /'Font', 'Encoding': /'Identity-H', 'ToUnicode': <PDFStream(8): raw=1791, {'Filter': /'FlateDecode', 'Length': 1789}>}\n"
     ]
    },
    {
     "name": "stdout",
     "output_type": "stream",
     "text": [
      "INFO:root:get_font: create: objid=37, spec={'BaseFont': /'Times-Roman', 'Encoding': /'WinAnsiEncoding', 'Subtype': /'Type1', 'Type': /'Font'}\r\n",
      "INFO:root:get_font: create: objid=36, spec={'BaseFont': /'Helvetica', 'Encoding': /'WinAnsiEncoding', 'Subtype': /'Type1', 'Type': /'Font'}\r\n",
      "INFO:root:get_font: create: objid=35, spec={'BaseFont': /'Helvetica-Oblique', 'Encoding': /'WinAnsiEncoding', 'Subtype': /'Type1', 'Type': /'Font'}\r\n",
      "INFO:root:get_font: create: objid=34, spec={'BaseFont': /'Times-Italic', 'Encoding': /'WinAnsiEncoding', 'Subtype': /'Type1', 'Type': /'Font'}\r\n",
      "INFO:root:Processing xobj: <PDFStream(9): raw=100874, {'BitsPerComponent': 8, 'ColorSpace': /'DeviceGray', 'Filter': /'DCTDecode', 'Height': 3300, 'Length': 100872, 'Subtype': /'Image', 'Type': /'XObject', 'Width': 2550}>\r\n"
     ]
    }
   ],
   "source": [
    "!pdf2txt.py Mammoth_Specimen_Golden_Shores/LHFO_AMD_09_Memorandum_Approval_Redacted.pdf -o output.txt"
   ]
  },
  {
   "cell_type": "markdown",
   "metadata": {
    "collapsed": true
   },
   "source": [
    "## 3. Receipts_From_Department of_Fish"
   ]
  },
  {
   "cell_type": "markdown",
   "metadata": {},
   "source": [
    "### a. https://www.muckrock.com/foi/montana-157/fwp-hinkle-payments-13866/#comms\n",
    "### b. The corresponding receipts for payments from the Department of Fish, Wildlife, and Parks to Jedehiah Hinkle on 06/21/2013, 07/24/2013, and 08/06/2014 for \"ACCT FOR PROP HELD IN TRUST\" that are listed on Montana's Checkbook at http://checkbook.mt.gov."
   ]
  },
  {
   "cell_type": "markdown",
   "metadata": {},
   "source": [
    "### c. STEP 1: Convert a pdf into a 300dpi PNG in preparation for OCR"
   ]
  },
  {
   "cell_type": "code",
   "execution_count": 247,
   "metadata": {},
   "outputs": [],
   "source": [
    "!convert -density 300 receipts_from_Department_of_Fish/receipts_from_Department_of_Fish.pdf output.png"
   ]
  },
  {
   "cell_type": "markdown",
   "metadata": {},
   "source": [
    "### c. STEP 2: Remove the images that I don't need to analyze on"
   ]
  },
  {
   "cell_type": "code",
   "execution_count": 250,
   "metadata": {},
   "outputs": [],
   "source": [
    "pngs = glob.glob('receipts_from_Department_of_Fish/output-*.png')\n",
    "pngs.remove('receipts_from_Department_of_Fish/output-0.png')\n",
    "pngs.remove('receipts_from_Department_of_Fish/output-4.png')\n",
    "pngs.remove('receipts_from_Department_of_Fish/output-6.png')"
   ]
  },
  {
   "cell_type": "markdown",
   "metadata": {},
   "source": [
    "### c. STEP 3: Use Kull to get the zone files and use zone files to extract the information from multiple pngs"
   ]
  },
  {
   "cell_type": "code",
   "execution_count": 255,
   "metadata": {},
   "outputs": [
    {
     "name": "stdout",
     "output_type": "stream",
     "text": [
      "Processing in /var/folders/h0/bfgktj_53cj5smb45pzm5p6w0000gn/T/mytmpdir.ZRnVlgT9\n",
      "Tesseract Open Source OCR Engine v3.05.01 with Leptonica\n",
      "Warning. Invalid resolution 0 dpi. Using 70 instead.\n",
      "Processing in /var/folders/h0/bfgktj_53cj5smb45pzm5p6w0000gn/T/mytmpdir.d6kmsRGb\n",
      "Tesseract Open Source OCR Engine v3.05.01 with Leptonica\n",
      "Warning. Invalid resolution 0 dpi. Using 70 instead.\n",
      "Processing in /var/folders/h0/bfgktj_53cj5smb45pzm5p6w0000gn/T/mytmpdir.DvWWZ3qL\n",
      "Tesseract Open Source OCR Engine v3.05.01 with Leptonica\n",
      "Warning. Invalid resolution 0 dpi. Using 70 instead.\n",
      "Processing in /var/folders/h0/bfgktj_53cj5smb45pzm5p6w0000gn/T/mytmpdir.8vxDickh\n",
      "Tesseract Open Source OCR Engine v3.05.01 with Leptonica\n",
      "Warning. Invalid resolution 0 dpi. Using 70 instead.\n",
      "Processing in /var/folders/h0/bfgktj_53cj5smb45pzm5p6w0000gn/T/mytmpdir.HA31sA1A\n",
      "Tesseract Open Source OCR Engine v3.05.01 with Leptonica\n",
      "Warning. Invalid resolution 0 dpi. Using 70 instead.\n",
      "Processing in /var/folders/h0/bfgktj_53cj5smb45pzm5p6w0000gn/T/mytmpdir.p1K7pfIn\n",
      "Tesseract Open Source OCR Engine v3.05.01 with Leptonica\n",
      "Warning. Invalid resolution 0 dpi. Using 70 instead.\n"
     ]
    }
   ],
   "source": [
    "for png in pngs:\n",
    "    !tesseract-uzn receipts_from_Department_of_Fish/output-1.uzn {png}"
   ]
  },
  {
   "cell_type": "code",
   "execution_count": 258,
   "metadata": {
    "collapsed": true
   },
   "outputs": [],
   "source": [
    "txts = glob.glob('receipts_from_Department_of_Fish/output-*.png.txt')"
   ]
  },
  {
   "cell_type": "markdown",
   "metadata": {},
   "source": [
    "### c. STEP 4: Convert the extracted information to dataframe"
   ]
  },
  {
   "cell_type": "code",
   "execution_count": 482,
   "metadata": {
    "collapsed": true
   },
   "outputs": [],
   "source": [
    "df = pd.DataFrame(columns=['date', 'person_name', 'usage_period_from', 'usage_period_to', 'item_type_code', 'defund_reason'])"
   ]
  },
  {
   "cell_type": "code",
   "execution_count": 483,
   "metadata": {},
   "outputs": [
    {
     "data": {
      "text/html": [
       "<div>\n",
       "<style>\n",
       "    .dataframe thead tr:only-child th {\n",
       "        text-align: right;\n",
       "    }\n",
       "\n",
       "    .dataframe thead th {\n",
       "        text-align: left;\n",
       "    }\n",
       "\n",
       "    .dataframe tbody tr th {\n",
       "        vertical-align: top;\n",
       "    }\n",
       "</style>\n",
       "<table border=\"1\" class=\"dataframe\">\n",
       "  <thead>\n",
       "    <tr style=\"text-align: right;\">\n",
       "      <th></th>\n",
       "      <th>date</th>\n",
       "      <th>person_name</th>\n",
       "      <th>usage_period_from</th>\n",
       "      <th>usage_period_to</th>\n",
       "      <th>item_type_code</th>\n",
       "      <th>defund_reason</th>\n",
       "    </tr>\n",
       "  </thead>\n",
       "  <tbody>\n",
       "    <tr>\n",
       "      <th>0</th>\n",
       "      <td>109812014</td>\n",
       "      <td>IJEDEDIAH L HINKLE</td>\n",
       "      <td>|03f01a‘2013</td>\n",
       "      <td>I02/28/2014</td>\n",
       "      <td>'2009005</td>\n",
       "      <td>IDRAWING UNSUCCESSFUL</td>\n",
       "    </tr>\n",
       "    <tr>\n",
       "      <th>1</th>\n",
       "      <td>10!?8/2014</td>\n",
       "      <td>IJEDEDIAH L HINKLE</td>\n",
       "      <td>l03a’01l2013</td>\n",
       "      <td>'02/28/2014</td>\n",
       "      <td>'2009007</td>\n",
       "      <td>IDRAWING UNSUCCESSFUL</td>\n",
       "    </tr>\n",
       "    <tr>\n",
       "      <th>2</th>\n",
       "      <td>|1or28r2014</td>\n",
       "      <td>IJEDEDIAH L HINKLE</td>\n",
       "      <td>’03-’01/2013</td>\n",
       "      <td>'02/28/2014</td>\n",
       "      <td>I2009006</td>\n",
       "      <td>IDRAWING UNSUCCESSFUL</td>\n",
       "    </tr>\n",
       "    <tr>\n",
       "      <th>3</th>\n",
       "      <td>10f'28f2014</td>\n",
       "      <td>IJEDEDIAH L HINKLE</td>\n",
       "      <td>|O3f01/2013</td>\n",
       "      <td>'02/28/2014</td>\n",
       "      <td>I2009002</td>\n",
       "      <td>IDRAWING UNSUCCESSFUL</td>\n",
       "    </tr>\n",
       "    <tr>\n",
       "      <th>4</th>\n",
       "      <td>10/281‘2014</td>\n",
       "      <td>IJEDEDFAH L HINKLE</td>\n",
       "      <td>'03101/2014</td>\n",
       "      <td>[02/28/2015</td>\n",
       "      <td>I2009017</td>\n",
       "      <td>IDRAWING UNSUCCESSFUL</td>\n",
       "    </tr>\n",
       "    <tr>\n",
       "      <th>5</th>\n",
       "      <td>I10!28!2014</td>\n",
       "      <td>’JEDEDIAH L HINKLE</td>\n",
       "      <td>l03a’01i2014</td>\n",
       "      <td>|02/28/2015</td>\n",
       "      <td>I2009001</td>\n",
       "      <td>IDRAWING UNSUCCESSFUL</td>\n",
       "    </tr>\n",
       "  </tbody>\n",
       "</table>\n",
       "</div>"
      ],
      "text/plain": [
       "          date         person_name usage_period_from usage_period_to  \\\n",
       "0    109812014  IJEDEDIAH L HINKLE      |03f01a‘2013     I02/28/2014   \n",
       "1   10!?8/2014  IJEDEDIAH L HINKLE      l03a’01l2013     '02/28/2014   \n",
       "2  |1or28r2014  IJEDEDIAH L HINKLE      ’03-’01/2013     '02/28/2014   \n",
       "3  10f'28f2014  IJEDEDIAH L HINKLE       |O3f01/2013     '02/28/2014   \n",
       "4  10/281‘2014  IJEDEDFAH L HINKLE       '03101/2014     [02/28/2015   \n",
       "5  I10!28!2014  ’JEDEDIAH L HINKLE      l03a’01i2014     |02/28/2015   \n",
       "\n",
       "  item_type_code          defund_reason  \n",
       "0       '2009005  IDRAWING UNSUCCESSFUL  \n",
       "1       '2009007  IDRAWING UNSUCCESSFUL  \n",
       "2       I2009006  IDRAWING UNSUCCESSFUL  \n",
       "3       I2009002  IDRAWING UNSUCCESSFUL  \n",
       "4       I2009017  IDRAWING UNSUCCESSFUL  \n",
       "5       I2009001  IDRAWING UNSUCCESSFUL  "
      ]
     },
     "execution_count": 483,
     "metadata": {},
     "output_type": "execute_result"
    }
   ],
   "source": [
    "date = []\n",
    "person_name = []\n",
    "usage_period_from = []\n",
    "usage_period_to = []\n",
    "item_type_code = []\n",
    "defund_reason = []\n",
    "\n",
    "for txt in txts:\n",
    "    with open(txt) as myfile:\n",
    "        lines = myfile.read().splitlines()\n",
    "    date.append(lines[0])\n",
    "    person_name.append(lines[2])\n",
    "    usage_period_from.append(lines[4])\n",
    "    usage_period_to.append(lines[6])\n",
    "    item_type_code.append(lines[8])\n",
    "    defund_reason.append(lines[10])\n",
    "    \n",
    "df = pd.DataFrame(np.column_stack([date, person_name, usage_period_from, usage_period_to, item_type_code, defund_reason]) , columns=['date', 'person_name', 'usage_period_from', 'usage_period_to', 'item_type_code', 'defund_reason'])\n",
    "\n",
    "df"
   ]
  },
  {
   "cell_type": "markdown",
   "metadata": {},
   "source": [
    "### c. STEP 5: Use regex to clean up the dataframe"
   ]
  },
  {
   "cell_type": "code",
   "execution_count": 484,
   "metadata": {
    "collapsed": true
   },
   "outputs": [],
   "source": [
    "import re"
   ]
  },
  {
   "cell_type": "code",
   "execution_count": 485,
   "metadata": {},
   "outputs": [
    {
     "data": {
      "text/plain": [
       "date                 object\n",
       "person_name          object\n",
       "usage_period_from    object\n",
       "usage_period_to      object\n",
       "item_type_code       object\n",
       "defund_reason        object\n",
       "dtype: object"
      ]
     },
     "execution_count": 485,
     "metadata": {},
     "output_type": "execute_result"
    }
   ],
   "source": [
    "df.dtypes"
   ]
  },
  {
   "cell_type": "code",
   "execution_count": 486,
   "metadata": {
    "collapsed": true
   },
   "outputs": [],
   "source": [
    "df['date'] = '10/28/2014'\n",
    "df['person_name'] = 'JEDEDIAH L HINKLE'"
   ]
  },
  {
   "cell_type": "code",
   "execution_count": 443,
   "metadata": {},
   "outputs": [],
   "source": [
    "# a = df.apply(lambda row: re.sub(r'[|ifa‘]', row.usage_period_from, '/'))\n",
    "# print(a)"
   ]
  },
  {
   "cell_type": "code",
   "execution_count": 487,
   "metadata": {},
   "outputs": [],
   "source": [
    "df['usage_period_from'] = df['usage_period_from'].str.replace(r'[|ifa-‘’\\']', '/')\n",
    "df['usage_period_from'] = df['usage_period_from'].str.replace(r'//', '/')\n",
    "df['usage_period_from'] = df['usage_period_from'].str.replace(r'-', '')\n",
    "df['usage_period_from'] = df['usage_period_from'].str.replace(r'O', '0')\n",
    "df['usage_period_from'] = df['usage_period_from'].str.replace(r'101', '/01')\n",
    "df['usage_period_from'] = df['usage_period_from'].str.replace(r'/03', '03')"
   ]
  },
  {
   "cell_type": "code",
   "execution_count": 488,
   "metadata": {},
   "outputs": [],
   "source": [
    "df['usage_period_to'] = df['usage_period_to'].str.replace(r'[I\\'\\[]', '')"
   ]
  },
  {
   "cell_type": "code",
   "execution_count": 489,
   "metadata": {},
   "outputs": [],
   "source": [
    "df['item_type_code'] = df['item_type_code'].str.replace(r'[\\'I]', '')"
   ]
  },
  {
   "cell_type": "code",
   "execution_count": 490,
   "metadata": {},
   "outputs": [],
   "source": [
    "df['defund_reason'] = 'DRAWING UNSUCCESSFUL'"
   ]
  },
  {
   "cell_type": "code",
   "execution_count": 493,
   "metadata": {
    "collapsed": true
   },
   "outputs": [],
   "source": [
    "df['refund_request_date'] = df['usage_period_to'].str.replace(r'[I\\'\\[|]', '')"
   ]
  },
  {
   "cell_type": "code",
   "execution_count": 494,
   "metadata": {},
   "outputs": [
    {
     "data": {
      "text/html": [
       "<div>\n",
       "<style>\n",
       "    .dataframe thead tr:only-child th {\n",
       "        text-align: right;\n",
       "    }\n",
       "\n",
       "    .dataframe thead th {\n",
       "        text-align: left;\n",
       "    }\n",
       "\n",
       "    .dataframe tbody tr th {\n",
       "        vertical-align: top;\n",
       "    }\n",
       "</style>\n",
       "<table border=\"1\" class=\"dataframe\">\n",
       "  <thead>\n",
       "    <tr style=\"text-align: right;\">\n",
       "      <th></th>\n",
       "      <th>date</th>\n",
       "      <th>person_name</th>\n",
       "      <th>usage_period_from</th>\n",
       "      <th>usage_period_to</th>\n",
       "      <th>item_type_code</th>\n",
       "      <th>defund_reason</th>\n",
       "      <th>refund_request_date</th>\n",
       "    </tr>\n",
       "  </thead>\n",
       "  <tbody>\n",
       "    <tr>\n",
       "      <th>0</th>\n",
       "      <td>10/28/2014</td>\n",
       "      <td>JEDEDIAH L HINKLE</td>\n",
       "      <td>03/01/2013</td>\n",
       "      <td>02/28/2014</td>\n",
       "      <td>2009005</td>\n",
       "      <td>DRAWING UNSUCCESSFUL</td>\n",
       "      <td>02/28/2014</td>\n",
       "    </tr>\n",
       "    <tr>\n",
       "      <th>1</th>\n",
       "      <td>10/28/2014</td>\n",
       "      <td>JEDEDIAH L HINKLE</td>\n",
       "      <td>03/01/2013</td>\n",
       "      <td>02/28/2014</td>\n",
       "      <td>2009007</td>\n",
       "      <td>DRAWING UNSUCCESSFUL</td>\n",
       "      <td>02/28/2014</td>\n",
       "    </tr>\n",
       "    <tr>\n",
       "      <th>2</th>\n",
       "      <td>10/28/2014</td>\n",
       "      <td>JEDEDIAH L HINKLE</td>\n",
       "      <td>03/01/2013</td>\n",
       "      <td>02/28/2014</td>\n",
       "      <td>2009006</td>\n",
       "      <td>DRAWING UNSUCCESSFUL</td>\n",
       "      <td>02/28/2014</td>\n",
       "    </tr>\n",
       "    <tr>\n",
       "      <th>3</th>\n",
       "      <td>10/28/2014</td>\n",
       "      <td>JEDEDIAH L HINKLE</td>\n",
       "      <td>03/01/2013</td>\n",
       "      <td>02/28/2014</td>\n",
       "      <td>2009002</td>\n",
       "      <td>DRAWING UNSUCCESSFUL</td>\n",
       "      <td>02/28/2014</td>\n",
       "    </tr>\n",
       "    <tr>\n",
       "      <th>4</th>\n",
       "      <td>10/28/2014</td>\n",
       "      <td>JEDEDIAH L HINKLE</td>\n",
       "      <td>03/01/2014</td>\n",
       "      <td>02/28/2015</td>\n",
       "      <td>2009017</td>\n",
       "      <td>DRAWING UNSUCCESSFUL</td>\n",
       "      <td>02/28/2015</td>\n",
       "    </tr>\n",
       "    <tr>\n",
       "      <th>5</th>\n",
       "      <td>10/28/2014</td>\n",
       "      <td>JEDEDIAH L HINKLE</td>\n",
       "      <td>03/01/2014</td>\n",
       "      <td>|02/28/2015</td>\n",
       "      <td>2009001</td>\n",
       "      <td>DRAWING UNSUCCESSFUL</td>\n",
       "      <td>02/28/2015</td>\n",
       "    </tr>\n",
       "  </tbody>\n",
       "</table>\n",
       "</div>"
      ],
      "text/plain": [
       "         date        person_name usage_period_from usage_period_to  \\\n",
       "0  10/28/2014  JEDEDIAH L HINKLE        03/01/2013      02/28/2014   \n",
       "1  10/28/2014  JEDEDIAH L HINKLE        03/01/2013      02/28/2014   \n",
       "2  10/28/2014  JEDEDIAH L HINKLE        03/01/2013      02/28/2014   \n",
       "3  10/28/2014  JEDEDIAH L HINKLE        03/01/2013      02/28/2014   \n",
       "4  10/28/2014  JEDEDIAH L HINKLE        03/01/2014      02/28/2015   \n",
       "5  10/28/2014  JEDEDIAH L HINKLE        03/01/2014     |02/28/2015   \n",
       "\n",
       "  item_type_code         defund_reason refund_request_date  \n",
       "0        2009005  DRAWING UNSUCCESSFUL          02/28/2014  \n",
       "1        2009007  DRAWING UNSUCCESSFUL          02/28/2014  \n",
       "2        2009006  DRAWING UNSUCCESSFUL          02/28/2014  \n",
       "3        2009002  DRAWING UNSUCCESSFUL          02/28/2014  \n",
       "4        2009017  DRAWING UNSUCCESSFUL          02/28/2015  \n",
       "5        2009001  DRAWING UNSUCCESSFUL          02/28/2015  "
      ]
     },
     "execution_count": 494,
     "metadata": {},
     "output_type": "execute_result"
    }
   ],
   "source": [
    "df"
   ]
  }
 ],
 "metadata": {
  "kernelspec": {
   "display_name": "Python 3",
   "language": "python",
   "name": "python3"
  },
  "language_info": {
   "codemirror_mode": {
    "name": "ipython",
    "version": 3
   },
   "file_extension": ".py",
   "mimetype": "text/x-python",
   "name": "python",
   "nbconvert_exporter": "python",
   "pygments_lexer": "ipython3",
   "version": "3.6.1"
  }
 },
 "nbformat": 4,
 "nbformat_minor": 2
}
